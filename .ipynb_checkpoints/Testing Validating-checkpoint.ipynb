{
 "cells": [
  {
   "cell_type": "markdown",
   "metadata": {},
   "source": [
    "* Split data in training and testing set. Train model using training set and test using testing set. Error on new testing set is called generalization error. Training error is low but generalization error is high means over fitting.\n",
    "* 80% of data for training, 20% for testing.\n",
    "* To find which of the 2 model is best, train both and find which model generalize testing set better.\n",
    "* To compare different hyperparameter performance use validation set. Train multiple model with different hyperparameter value on training set. Select model and hyperparameter that perform best on validation test, when we are happy with model we run on test set to find generalization error.\n",
    "\n",
    "#### Cross validation\n",
    "* training set splits in complementary subsets, each model trained against different combination of this subsets and validated against remaining part. Once model and hyperparameter is set finally we train it on full training set and generalization error is measured against test set."
   ]
  },
  {
   "cell_type": "markdown",
   "metadata": {},
   "source": [
    "# Temp notes from various sources"
   ]
  },
  {
   "cell_type": "markdown",
   "metadata": {},
   "source": [
    "lg.predic_proba(X)\n",
    "\n",
    "* Model with many variables\n",
    "    - overfit\n",
    "    - Hard to maintain/implement high running time\n",
    "    - Hard to implement/multi-collinearity\n",
    "* AUC (Area under the ROC curve)\n",
    "    - Between 0 and 1. 1 means perfect model. Finds how well the model can order the objecs from low chance to high chance of the target.\n",
    "    - 0.5 shows random model\n"
   ]
  },
  {
   "cell_type": "code",
   "execution_count": 1,
   "metadata": {},
   "outputs": [],
   "source": [
    "from sklearn.metrics import roc_auc_score"
   ]
  },
  {
   "cell_type": "markdown",
   "metadata": {},
   "source": [
    "roc_auc_score(true_target, prob_target) # both input are the ndarray"
   ]
  },
  {
   "cell_type": "markdown",
   "metadata": {},
   "source": [
    "* Forward stepwise variable selection\n",
    "    - Empty set\n",
    "    - Find best variable v1\n",
    "    - Find best variable v2 combine it with v1 # here v2 has best AUC combination with prev group of vars.\n",
    "    - Find best variable v3 combine it with v1, v2\n",
    "* Stop when all variable are added or predefined number of variable reached."
   ]
  },
  {
   "cell_type": "code",
   "execution_count": 10,
   "metadata": {},
   "outputs": [],
   "source": [
    "import numpy as np"
   ]
  },
  {
   "cell_type": "code",
   "execution_count": 3,
   "metadata": {},
   "outputs": [],
   "source": [
    "from sklearn.linear_model import LogisticRegression"
   ]
  },
  {
   "cell_type": "code",
   "execution_count": 22,
   "metadata": {},
   "outputs": [],
   "source": [
    "def auc(variables, target, df):\n",
    "    X = df[variables]\n",
    "    y = np.ravel(df[target]) # returns 1 d array of shape (size,)\n",
    "    \n",
    "    logreg = LogisticRegression();\n",
    "    logreg.fit(X, y)\n",
    "    \n",
    "    predictioons = logreg.predict_proba(X)[:,1]\n",
    "    auc = roc_auc_score(y, predictioons)\n",
    "    return auc"
   ]
  },
  {
   "cell_type": "code",
   "execution_count": 23,
   "metadata": {},
   "outputs": [],
   "source": [
    "import pandas as pd"
   ]
  },
  {
   "cell_type": "code",
   "execution_count": 24,
   "metadata": {},
   "outputs": [],
   "source": [
    "basetable = pd.read_csv('data/basetable.csv')"
   ]
  },
  {
   "cell_type": "code",
   "execution_count": 25,
   "metadata": {},
   "outputs": [
    {
     "data": {
      "text/html": [
       "<div>\n",
       "<style scoped>\n",
       "    .dataframe tbody tr th:only-of-type {\n",
       "        vertical-align: middle;\n",
       "    }\n",
       "\n",
       "    .dataframe tbody tr th {\n",
       "        vertical-align: top;\n",
       "    }\n",
       "\n",
       "    .dataframe thead th {\n",
       "        text-align: right;\n",
       "    }\n",
       "</style>\n",
       "<table border=\"1\" class=\"dataframe\">\n",
       "  <thead>\n",
       "    <tr style=\"text-align: right;\">\n",
       "      <th></th>\n",
       "      <th>target</th>\n",
       "      <th>gender_F</th>\n",
       "      <th>income_high</th>\n",
       "      <th>income_low</th>\n",
       "      <th>country_USA</th>\n",
       "      <th>country_India</th>\n",
       "      <th>country_UK</th>\n",
       "      <th>age</th>\n",
       "      <th>time_since_last_gift</th>\n",
       "      <th>time_since_first_gift</th>\n",
       "      <th>max_gift</th>\n",
       "      <th>min_gift</th>\n",
       "      <th>mean_gift</th>\n",
       "      <th>number_gift</th>\n",
       "    </tr>\n",
       "  </thead>\n",
       "  <tbody>\n",
       "    <tr>\n",
       "      <th>0</th>\n",
       "      <td>0</td>\n",
       "      <td>1</td>\n",
       "      <td>0</td>\n",
       "      <td>1</td>\n",
       "      <td>0</td>\n",
       "      <td>1</td>\n",
       "      <td>0</td>\n",
       "      <td>65</td>\n",
       "      <td>530</td>\n",
       "      <td>2265</td>\n",
       "      <td>166.0</td>\n",
       "      <td>87.0</td>\n",
       "      <td>116.00</td>\n",
       "      <td>7</td>\n",
       "    </tr>\n",
       "    <tr>\n",
       "      <th>1</th>\n",
       "      <td>0</td>\n",
       "      <td>1</td>\n",
       "      <td>0</td>\n",
       "      <td>0</td>\n",
       "      <td>0</td>\n",
       "      <td>1</td>\n",
       "      <td>0</td>\n",
       "      <td>71</td>\n",
       "      <td>715</td>\n",
       "      <td>715</td>\n",
       "      <td>90.0</td>\n",
       "      <td>90.0</td>\n",
       "      <td>90.00</td>\n",
       "      <td>1</td>\n",
       "    </tr>\n",
       "    <tr>\n",
       "      <th>2</th>\n",
       "      <td>0</td>\n",
       "      <td>1</td>\n",
       "      <td>0</td>\n",
       "      <td>0</td>\n",
       "      <td>0</td>\n",
       "      <td>1</td>\n",
       "      <td>0</td>\n",
       "      <td>28</td>\n",
       "      <td>150</td>\n",
       "      <td>1806</td>\n",
       "      <td>125.0</td>\n",
       "      <td>74.0</td>\n",
       "      <td>96.00</td>\n",
       "      <td>9</td>\n",
       "    </tr>\n",
       "    <tr>\n",
       "      <th>3</th>\n",
       "      <td>0</td>\n",
       "      <td>1</td>\n",
       "      <td>0</td>\n",
       "      <td>1</td>\n",
       "      <td>1</td>\n",
       "      <td>0</td>\n",
       "      <td>0</td>\n",
       "      <td>52</td>\n",
       "      <td>725</td>\n",
       "      <td>2274</td>\n",
       "      <td>117.0</td>\n",
       "      <td>97.0</td>\n",
       "      <td>104.25</td>\n",
       "      <td>4</td>\n",
       "    </tr>\n",
       "    <tr>\n",
       "      <th>4</th>\n",
       "      <td>0</td>\n",
       "      <td>1</td>\n",
       "      <td>1</td>\n",
       "      <td>0</td>\n",
       "      <td>1</td>\n",
       "      <td>0</td>\n",
       "      <td>0</td>\n",
       "      <td>82</td>\n",
       "      <td>805</td>\n",
       "      <td>805</td>\n",
       "      <td>80.0</td>\n",
       "      <td>80.0</td>\n",
       "      <td>80.00</td>\n",
       "      <td>1</td>\n",
       "    </tr>\n",
       "  </tbody>\n",
       "</table>\n",
       "</div>"
      ],
      "text/plain": [
       "   target  gender_F  income_high  income_low  country_USA  country_India  \\\n",
       "0       0         1            0           1            0              1   \n",
       "1       0         1            0           0            0              1   \n",
       "2       0         1            0           0            0              1   \n",
       "3       0         1            0           1            1              0   \n",
       "4       0         1            1           0            1              0   \n",
       "\n",
       "   country_UK  age  time_since_last_gift  time_since_first_gift  max_gift  \\\n",
       "0           0   65                   530                   2265     166.0   \n",
       "1           0   71                   715                    715      90.0   \n",
       "2           0   28                   150                   1806     125.0   \n",
       "3           0   52                   725                   2274     117.0   \n",
       "4           0   82                   805                    805      80.0   \n",
       "\n",
       "   min_gift  mean_gift  number_gift  \n",
       "0      87.0     116.00            7  \n",
       "1      90.0      90.00            1  \n",
       "2      74.0      96.00            9  \n",
       "3      97.0     104.25            4  \n",
       "4      80.0      80.00            1  "
      ]
     },
     "execution_count": 25,
     "metadata": {},
     "output_type": "execute_result"
    }
   ],
   "source": [
    "basetable.head()"
   ]
  },
  {
   "cell_type": "code",
   "execution_count": 26,
   "metadata": {},
   "outputs": [
    {
     "name": "stderr",
     "output_type": "stream",
     "text": [
      "C:\\Users\\davep\\Anaconda3\\lib\\site-packages\\sklearn\\linear_model\\logistic.py:433: FutureWarning: Default solver will be changed to 'lbfgs' in 0.22. Specify a solver to silence this warning.\n",
      "  FutureWarning)\n"
     ]
    },
    {
     "data": {
      "text/plain": [
       "0.5434182287566303"
      ]
     },
     "execution_count": 26,
     "metadata": {},
     "output_type": "execute_result"
    }
   ],
   "source": [
    "auc(['age', 'gender_F'], ['target'], basetable)"
   ]
  },
  {
   "cell_type": "code",
   "execution_count": 27,
   "metadata": {},
   "outputs": [],
   "source": [
    "def next_best(current_vars, candidate_cars, target, df):\n",
    "    best_auc = -1\n",
    "    best_variable = None\n",
    "    for v in candidate_cars:\n",
    "        auc_v = auc(current_vars + [v], target, df)\n",
    "        if auc_v >= best_auc:\n",
    "            best_auc = auc_v\n",
    "            best_variable = v\n",
    "    return best_variable"
   ]
  },
  {
   "cell_type": "code",
   "execution_count": 28,
   "metadata": {},
   "outputs": [
    {
     "name": "stderr",
     "output_type": "stream",
     "text": [
      "C:\\Users\\davep\\Anaconda3\\lib\\site-packages\\sklearn\\linear_model\\logistic.py:433: FutureWarning: Default solver will be changed to 'lbfgs' in 0.22. Specify a solver to silence this warning.\n",
      "  FutureWarning)\n",
      "C:\\Users\\davep\\Anaconda3\\lib\\site-packages\\sklearn\\linear_model\\logistic.py:433: FutureWarning: Default solver will be changed to 'lbfgs' in 0.22. Specify a solver to silence this warning.\n",
      "  FutureWarning)\n",
      "C:\\Users\\davep\\Anaconda3\\lib\\site-packages\\sklearn\\linear_model\\logistic.py:433: FutureWarning: Default solver will be changed to 'lbfgs' in 0.22. Specify a solver to silence this warning.\n",
      "  FutureWarning)\n",
      "C:\\Users\\davep\\Anaconda3\\lib\\site-packages\\sklearn\\linear_model\\logistic.py:433: FutureWarning: Default solver will be changed to 'lbfgs' in 0.22. Specify a solver to silence this warning.\n",
      "  FutureWarning)\n",
      "C:\\Users\\davep\\Anaconda3\\lib\\site-packages\\sklearn\\linear_model\\logistic.py:433: FutureWarning: Default solver will be changed to 'lbfgs' in 0.22. Specify a solver to silence this warning.\n",
      "  FutureWarning)\n",
      "C:\\Users\\davep\\Anaconda3\\lib\\site-packages\\sklearn\\linear_model\\logistic.py:433: FutureWarning: Default solver will be changed to 'lbfgs' in 0.22. Specify a solver to silence this warning.\n",
      "  FutureWarning)\n",
      "C:\\Users\\davep\\Anaconda3\\lib\\site-packages\\sklearn\\linear_model\\logistic.py:433: FutureWarning: Default solver will be changed to 'lbfgs' in 0.22. Specify a solver to silence this warning.\n",
      "  FutureWarning)\n",
      "C:\\Users\\davep\\Anaconda3\\lib\\site-packages\\sklearn\\linear_model\\logistic.py:433: FutureWarning: Default solver will be changed to 'lbfgs' in 0.22. Specify a solver to silence this warning.\n",
      "  FutureWarning)\n",
      "C:\\Users\\davep\\Anaconda3\\lib\\site-packages\\sklearn\\linear_model\\logistic.py:433: FutureWarning: Default solver will be changed to 'lbfgs' in 0.22. Specify a solver to silence this warning.\n",
      "  FutureWarning)\n",
      "C:\\Users\\davep\\Anaconda3\\lib\\site-packages\\sklearn\\linear_model\\logistic.py:433: FutureWarning: Default solver will be changed to 'lbfgs' in 0.22. Specify a solver to silence this warning.\n",
      "  FutureWarning)\n",
      "C:\\Users\\davep\\Anaconda3\\lib\\site-packages\\sklearn\\linear_model\\logistic.py:433: FutureWarning: Default solver will be changed to 'lbfgs' in 0.22. Specify a solver to silence this warning.\n",
      "  FutureWarning)\n",
      "C:\\Users\\davep\\Anaconda3\\lib\\site-packages\\sklearn\\linear_model\\logistic.py:433: FutureWarning: Default solver will be changed to 'lbfgs' in 0.22. Specify a solver to silence this warning.\n",
      "  FutureWarning)\n",
      "C:\\Users\\davep\\Anaconda3\\lib\\site-packages\\sklearn\\linear_model\\logistic.py:433: FutureWarning: Default solver will be changed to 'lbfgs' in 0.22. Specify a solver to silence this warning.\n",
      "  FutureWarning)\n",
      "C:\\Users\\davep\\Anaconda3\\lib\\site-packages\\sklearn\\linear_model\\logistic.py:433: FutureWarning: Default solver will be changed to 'lbfgs' in 0.22. Specify a solver to silence this warning.\n",
      "  FutureWarning)\n",
      "C:\\Users\\davep\\Anaconda3\\lib\\site-packages\\sklearn\\linear_model\\logistic.py:433: FutureWarning: Default solver will be changed to 'lbfgs' in 0.22. Specify a solver to silence this warning.\n",
      "  FutureWarning)\n",
      "C:\\Users\\davep\\Anaconda3\\lib\\site-packages\\sklearn\\linear_model\\logistic.py:433: FutureWarning: Default solver will be changed to 'lbfgs' in 0.22. Specify a solver to silence this warning.\n",
      "  FutureWarning)\n",
      "C:\\Users\\davep\\Anaconda3\\lib\\site-packages\\sklearn\\linear_model\\logistic.py:433: FutureWarning: Default solver will be changed to 'lbfgs' in 0.22. Specify a solver to silence this warning.\n",
      "  FutureWarning)\n",
      "C:\\Users\\davep\\Anaconda3\\lib\\site-packages\\sklearn\\linear_model\\logistic.py:433: FutureWarning: Default solver will be changed to 'lbfgs' in 0.22. Specify a solver to silence this warning.\n",
      "  FutureWarning)\n",
      "C:\\Users\\davep\\Anaconda3\\lib\\site-packages\\sklearn\\linear_model\\logistic.py:433: FutureWarning: Default solver will be changed to 'lbfgs' in 0.22. Specify a solver to silence this warning.\n",
      "  FutureWarning)\n",
      "C:\\Users\\davep\\Anaconda3\\lib\\site-packages\\sklearn\\linear_model\\logistic.py:433: FutureWarning: Default solver will be changed to 'lbfgs' in 0.22. Specify a solver to silence this warning.\n",
      "  FutureWarning)\n",
      "C:\\Users\\davep\\Anaconda3\\lib\\site-packages\\sklearn\\linear_model\\logistic.py:433: FutureWarning: Default solver will be changed to 'lbfgs' in 0.22. Specify a solver to silence this warning.\n",
      "  FutureWarning)\n",
      "C:\\Users\\davep\\Anaconda3\\lib\\site-packages\\sklearn\\linear_model\\logistic.py:433: FutureWarning: Default solver will be changed to 'lbfgs' in 0.22. Specify a solver to silence this warning.\n",
      "  FutureWarning)\n",
      "C:\\Users\\davep\\Anaconda3\\lib\\site-packages\\sklearn\\linear_model\\logistic.py:433: FutureWarning: Default solver will be changed to 'lbfgs' in 0.22. Specify a solver to silence this warning.\n",
      "  FutureWarning)\n",
      "C:\\Users\\davep\\Anaconda3\\lib\\site-packages\\sklearn\\linear_model\\logistic.py:433: FutureWarning: Default solver will be changed to 'lbfgs' in 0.22. Specify a solver to silence this warning.\n",
      "  FutureWarning)\n",
      "C:\\Users\\davep\\Anaconda3\\lib\\site-packages\\sklearn\\linear_model\\logistic.py:433: FutureWarning: Default solver will be changed to 'lbfgs' in 0.22. Specify a solver to silence this warning.\n",
      "  FutureWarning)\n"
     ]
    }
   ],
   "source": [
    "current_vars = []\n",
    "candidate_vars = ['min_gift', 'max_gift', \"mean_gift\", 'age', 'gender_F', 'country_USA', \"income_low\"]\n",
    "target = [\"target\"]\n",
    "\n",
    "max_number_var = 5\n",
    "for i in range(0, min(max_number_var, len(candidate_vars))):\n",
    "    next_var = next_best(current_vars, candidate_vars, target, basetable)\n",
    "    \n",
    "    current_vars = current_vars + [next_var]\n",
    "    candidate_vars.remove(next_var)"
   ]
  },
  {
   "cell_type": "code",
   "execution_count": 21,
   "metadata": {},
   "outputs": [
    {
     "data": {
      "text/plain": [
       "['max_gift', 'age', 'mean_gift', 'min_gift', 'country_USA']"
      ]
     },
     "execution_count": 21,
     "metadata": {},
     "output_type": "execute_result"
    }
   ],
   "source": [
    "current_vars"
   ]
  },
  {
   "cell_type": "code",
   "execution_count": 29,
   "metadata": {},
   "outputs": [
    {
     "name": "stderr",
     "output_type": "stream",
     "text": [
      "C:\\Users\\davep\\Anaconda3\\lib\\site-packages\\sklearn\\linear_model\\logistic.py:433: FutureWarning: Default solver will be changed to 'lbfgs' in 0.22. Specify a solver to silence this warning.\n",
      "  FutureWarning)\n",
      "C:\\Users\\davep\\Anaconda3\\lib\\site-packages\\sklearn\\linear_model\\logistic.py:433: FutureWarning: Default solver will be changed to 'lbfgs' in 0.22. Specify a solver to silence this warning.\n",
      "  FutureWarning)\n",
      "C:\\Users\\davep\\Anaconda3\\lib\\site-packages\\sklearn\\linear_model\\logistic.py:433: FutureWarning: Default solver will be changed to 'lbfgs' in 0.22. Specify a solver to silence this warning.\n",
      "  FutureWarning)\n",
      "C:\\Users\\davep\\Anaconda3\\lib\\site-packages\\sklearn\\linear_model\\logistic.py:433: FutureWarning: Default solver will be changed to 'lbfgs' in 0.22. Specify a solver to silence this warning.\n",
      "  FutureWarning)\n",
      "C:\\Users\\davep\\Anaconda3\\lib\\site-packages\\sklearn\\linear_model\\logistic.py:433: FutureWarning: Default solver will be changed to 'lbfgs' in 0.22. Specify a solver to silence this warning.\n",
      "  FutureWarning)\n"
     ]
    }
   ],
   "source": [
    "auc_values = []\n",
    "variable_name = []\n",
    "\n",
    "for v in current_vars:\n",
    "    variable_name.append(v)\n",
    "    auc_values.append(auc(variable_name, ['target'], basetable))"
   ]
  },
  {
   "cell_type": "code",
   "execution_count": 30,
   "metadata": {},
   "outputs": [],
   "source": [
    "import matplotlib.pyplot as plt"
   ]
  },
  {
   "cell_type": "code",
   "execution_count": 34,
   "metadata": {},
   "outputs": [
    {
     "data": {
      "text/plain": [
       "[<matplotlib.lines.Line2D at 0x1cd6c6621d0>]"
      ]
     },
     "execution_count": 34,
     "metadata": {},
     "output_type": "execute_result"
    },
    {
     "data": {
      "image/png": "[encoded data removed]",
      "text/plain": [
       "<Figure size 432x288 with 1 Axes>"
      ]
     },
     "metadata": {
      "needs_background": "light"
     },
     "output_type": "display_data"
    }
   ],
   "source": [
    "plt.plot(variable_name, auc_values)"
   ]
  },
  {
   "cell_type": "markdown",
   "metadata": {},
   "source": [
    "* Auc values on new data will not keep increasing, increasing trend on testing data is because of overfitting. \n",
    "* To select variable, choose upto where test AUC is high as possible\n",
    "* Low number of variables as possible"
   ]
  },
  {
   "cell_type": "code",
   "execution_count": 40,
   "metadata": {},
   "outputs": [],
   "source": [
    "from sklearn.model_selection import train_test_split"
   ]
  },
  {
   "cell_type": "code",
   "execution_count": 45,
   "metadata": {},
   "outputs": [],
   "source": [
    "X = basetable.drop('target', axis = 1)\n",
    "y = basetable[\"target\"]\n",
    "\n",
    "X_train, X_test, y_train, y_test = train_test_split(X, y, test_size=0.4, stratify=y)"
   ]
  },
  {
   "cell_type": "code",
   "execution_count": 47,
   "metadata": {},
   "outputs": [],
   "source": [
    "train = pd.concat([X_train, y_train], axis=1)\n",
    "test = pd.concat([X_test, y_test], axis=1)"
   ]
  },
  {
   "cell_type": "code",
   "execution_count": 48,
   "metadata": {},
   "outputs": [],
   "source": [
    "def auc_train_test(var_names, target, train, test):\n",
    "    logReg = LogisticRegression()\n",
    "    logReg.fit(train[var_names], train[target])\n",
    "    train_auc = roc_auc_score(train[target], logReg.predict_proba(train[var_names])[:,1])\n",
    "    test_auc = roc_auc_score(test[target], logReg.predict_proba(test[var_names])[:,1])\n",
    "    return (train_auc, test_auc)"
   ]
  },
  {
   "cell_type": "code",
   "execution_count": 50,
   "metadata": {},
   "outputs": [
    {
     "name": "stderr",
     "output_type": "stream",
     "text": [
      "C:\\Users\\davep\\Anaconda3\\lib\\site-packages\\sklearn\\linear_model\\logistic.py:433: FutureWarning: Default solver will be changed to 'lbfgs' in 0.22. Specify a solver to silence this warning.\n",
      "  FutureWarning)\n",
      "C:\\Users\\davep\\Anaconda3\\lib\\site-packages\\sklearn\\utils\\validation.py:761: DataConversionWarning: A column-vector y was passed when a 1d array was expected. Please change the shape of y to (n_samples, ), for example using ravel().\n",
      "  y = column_or_1d(y, warn=True)\n",
      "C:\\Users\\davep\\Anaconda3\\lib\\site-packages\\sklearn\\linear_model\\logistic.py:433: FutureWarning: Default solver will be changed to 'lbfgs' in 0.22. Specify a solver to silence this warning.\n",
      "  FutureWarning)\n",
      "C:\\Users\\davep\\Anaconda3\\lib\\site-packages\\sklearn\\utils\\validation.py:761: DataConversionWarning: A column-vector y was passed when a 1d array was expected. Please change the shape of y to (n_samples, ), for example using ravel().\n",
      "  y = column_or_1d(y, warn=True)\n",
      "C:\\Users\\davep\\Anaconda3\\lib\\site-packages\\sklearn\\linear_model\\logistic.py:433: FutureWarning: Default solver will be changed to 'lbfgs' in 0.22. Specify a solver to silence this warning.\n",
      "  FutureWarning)\n",
      "C:\\Users\\davep\\Anaconda3\\lib\\site-packages\\sklearn\\utils\\validation.py:761: DataConversionWarning: A column-vector y was passed when a 1d array was expected. Please change the shape of y to (n_samples, ), for example using ravel().\n",
      "  y = column_or_1d(y, warn=True)\n",
      "C:\\Users\\davep\\Anaconda3\\lib\\site-packages\\sklearn\\linear_model\\logistic.py:433: FutureWarning: Default solver will be changed to 'lbfgs' in 0.22. Specify a solver to silence this warning.\n",
      "  FutureWarning)\n",
      "C:\\Users\\davep\\Anaconda3\\lib\\site-packages\\sklearn\\utils\\validation.py:761: DataConversionWarning: A column-vector y was passed when a 1d array was expected. Please change the shape of y to (n_samples, ), for example using ravel().\n",
      "  y = column_or_1d(y, warn=True)\n",
      "C:\\Users\\davep\\Anaconda3\\lib\\site-packages\\sklearn\\linear_model\\logistic.py:433: FutureWarning: Default solver will be changed to 'lbfgs' in 0.22. Specify a solver to silence this warning.\n",
      "  FutureWarning)\n",
      "C:\\Users\\davep\\Anaconda3\\lib\\site-packages\\sklearn\\utils\\validation.py:761: DataConversionWarning: A column-vector y was passed when a 1d array was expected. Please change the shape of y to (n_samples, ), for example using ravel().\n",
      "  y = column_or_1d(y, warn=True)\n"
     ]
    },
    {
     "data": {
      "text/plain": [
       "[0.710577578654831,\n",
       " 0.7129026420379481,\n",
       " 0.7150427560803755,\n",
       " 0.7174595814669653,\n",
       " 0.7191500272877689]"
      ]
     },
     "execution_count": 50,
     "metadata": {},
     "output_type": "execute_result"
    }
   ],
   "source": [
    "train_auc = []\n",
    "test_auc = []\n",
    "variable_name = []\n",
    "for v in current_vars:\n",
    "    variable_name.append(v)\n",
    "    ans = auc_train_test(variable_name, ['target'], train, test)\n",
    "    train_auc.append(ans[0])\n",
    "    test_auc.append(ans[1])\n",
    "\n",
    "train_auc"
   ]
  },
  {
   "cell_type": "code",
   "execution_count": 51,
   "metadata": {},
   "outputs": [
    {
     "data": {
      "text/plain": [
       "[0.7005770962840171,\n",
       " 0.702848128194502,\n",
       " 0.7047405442740711,\n",
       " 0.7106777179168393,\n",
       " 0.7097343832020997]"
      ]
     },
     "execution_count": 51,
     "metadata": {},
     "output_type": "execute_result"
    }
   ],
   "source": [
    "test_auc"
   ]
  },
  {
   "cell_type": "code",
   "execution_count": 53,
   "metadata": {},
   "outputs": [
    {
     "data": {
      "text/plain": [
       "<matplotlib.legend.Legend at 0x1cd6c7d6a58>"
      ]
     },
     "execution_count": 53,
     "metadata": {},
     "output_type": "execute_result"
    },
    {
     "data": {
      "image/png": "[encoded data removed]",
      "text/plain": [
       "<Figure size 432x288 with 1 Axes>"
      ]
     },
     "metadata": {
      "needs_background": "light"
     },
     "output_type": "display_data"
    }
   ],
   "source": [
    "plt.plot(variable_name, train_auc, label=\"train_auc\")\n",
    "plt.plot(variable_name, test_auc, label=\"test_auc\")\n",
    "plt.legend()"
   ]
  },
  {
   "cell_type": "markdown",
   "metadata": {},
   "source": [
    "### Cumulative gains construction"
   ]
  },
  {
   "cell_type": "markdown",
   "metadata": {},
   "source": [
    "* Easy to explain to business people\n",
    "* It shows the percentage of targets reached when considering a certain percentage of your population with the highest probability to be target according to your model."
   ]
  },
  {
   "cell_type": "markdown",
   "metadata": {},
   "source": [
    "* Order all observation according to output of the model. Left side observation with highest probability, right side with lowest probability. Horizontal axis shows which % of observation is considered. Vertical says what % of all target is included in group.\n",
    "![](images/cumulative_gains_construction.PNG)"
   ]
  },
  {
   "cell_type": "markdown",
   "metadata": {},
   "source": [
    "* Apon taking top 30% of observation with highest probability to be target, this group contains 70% of all targets"
   ]
  },
  {
   "cell_type": "markdown",
   "metadata": {},
   "source": [
    "* More the line situated to upper left corner better the model.\n",
    "![](images/cumulative_gains_construction1.PNG)\n",
    "* Model 2 is better to distinguish top 10 % observation from the rest, model 1 is better to distringuish top 70% observations"
   ]
  },
  {
   "cell_type": "code",
   "execution_count": 55,
   "metadata": {},
   "outputs": [],
   "source": [
    "import scikitplot as skplt"
   ]
  },
  {
   "cell_type": "code",
   "execution_count": 56,
   "metadata": {},
   "outputs": [
    {
     "name": "stderr",
     "output_type": "stream",
     "text": [
      "C:\\Users\\davep\\Anaconda3\\lib\\site-packages\\sklearn\\linear_model\\logistic.py:433: FutureWarning: Default solver will be changed to 'lbfgs' in 0.22. Specify a solver to silence this warning.\n",
      "  FutureWarning)\n"
     ]
    },
    {
     "data": {
      "text/plain": [
       "LogisticRegression(C=1.0, class_weight=None, dual=False, fit_intercept=True,\n",
       "          intercept_scaling=1, max_iter=100, multi_class='warn',\n",
       "          n_jobs=None, penalty='l2', random_state=None, solver='warn',\n",
       "          tol=0.0001, verbose=0, warm_start=False)"
      ]
     },
     "execution_count": 56,
     "metadata": {},
     "output_type": "execute_result"
    }
   ],
   "source": [
    "lg = LogisticRegression()\n",
    "lg.fit(train[current_vars], train[\"target\"])"
   ]
  },
  {
   "cell_type": "code",
   "execution_count": 63,
   "metadata": {},
   "outputs": [
    {
     "name": "stderr",
     "output_type": "stream",
     "text": [
      "C:\\Users\\davep\\Anaconda3\\lib\\site-packages\\matplotlib\\cbook\\__init__.py:424: MatplotlibDeprecationWarning: \n",
      "Passing one of 'on', 'true', 'off', 'false' as a boolean is deprecated; use an actual boolean (True/False) instead.\n",
      "  warn_deprecated(\"2.2\", \"Passing one of 'on', 'true', 'off', 'false' as a \"\n"
     ]
    },
    {
     "data": {
      "text/plain": [
       "<matplotlib.axes._subplots.AxesSubplot at 0x1cd6ccd7fd0>"
      ]
     },
     "execution_count": 63,
     "metadata": {},
     "output_type": "execute_result"
    },
    {
     "data": {
      "image/png": "[encoded data removed]",
      "text/plain": [
       "<Figure size 432x288 with 1 Axes>"
      ]
     },
     "metadata": {
      "needs_background": "light"
     },
     "output_type": "display_data"
    }
   ],
   "source": [
    "skplt.metrics.plot_cumulative_gain(basetable['target'], lg.predict_proba(basetable[current_vars]))"
   ]
  },
  {
   "cell_type": "markdown",
   "metadata": {},
   "source": [
    "* For example imagine we have a budget to send a letter to top 30000 donors out of 100000. How many targets we can reach if there are 5000 target out of 100000."
   ]
  },
  {
   "cell_type": "markdown",
   "metadata": {},
   "source": [
    "* top 30000 donors means 0.3, which covers 0.6% of total targets = 0.6 * 5000 = 3000."
   ]
  },
  {
   "cell_type": "markdown",
   "metadata": {},
   "source": [
    "* Cumulative gain curve for random model aligns with base line."
   ]
  },
  {
   "cell_type": "code",
   "execution_count": 65,
   "metadata": {},
   "outputs": [],
   "source": [
    "import random\n",
    "\n",
    "prediction = [random.uniform(0, 1) for _ in range(len(basetable))]"
   ]
  },
  {
   "cell_type": "code",
   "execution_count": 66,
   "metadata": {},
   "outputs": [],
   "source": [
    "prediction = [(r, 1-r) for r in prediction]"
   ]
  },
  {
   "cell_type": "code",
   "execution_count": 68,
   "metadata": {},
   "outputs": [
    {
     "name": "stderr",
     "output_type": "stream",
     "text": [
      "C:\\Users\\davep\\Anaconda3\\lib\\site-packages\\matplotlib\\cbook\\__init__.py:424: MatplotlibDeprecationWarning: \n",
      "Passing one of 'on', 'true', 'off', 'false' as a boolean is deprecated; use an actual boolean (True/False) instead.\n",
      "  warn_deprecated(\"2.2\", \"Passing one of 'on', 'true', 'off', 'false' as a \"\n"
     ]
    },
    {
     "data": {
      "text/plain": [
       "<matplotlib.axes._subplots.AxesSubplot at 0x1cd6eba7da0>"
      ]
     },
     "execution_count": 68,
     "metadata": {},
     "output_type": "execute_result"
    },
    {
     "data": {
      "image/png": "[encoded data removed]",
      "text/plain": [
       "<Figure size 432x288 with 1 Axes>"
      ]
     },
     "metadata": {
      "needs_background": "light"
     },
     "output_type": "display_data"
    }
   ],
   "source": [
    "skplt.metrics.plot_cumulative_gain(basetable[\"target\"], prediction)"
   ]
  },
  {
   "cell_type": "markdown",
   "metadata": {},
   "source": [
    "### lift curve\n",
    "* how many times more than average the model reaches targets when a given percentage of the population that is most likely to be target according to the model is considered.\n",
    "* Order all the observations according to the model on horizontal axis. It indicates which % of observations is considered.\n",
    "* Vertical axis shows how many times more than avg the targets are included in the group. Assume that top 10% observation contains 20% targets. If the avg % of targets are 5%. Then lift is 4. Because 20% is 4 * 5.\n",
    "![](images/new_picture_lift.PNG)\n",
    "* Random model has equal % of target in each group so baseline is 1. Better model has higher lift. Again 2 models can cross each other. Model 2 is higher at 10% model 1 is higher at 80%. To target 10% of population model 2 is better as it reach more targets. To target 80% of population model 1 is better.\n",
    "![](images/new_picture_lift1.PNG)\n"
   ]
  },
  {
   "cell_type": "code",
   "execution_count": 73,
   "metadata": {},
   "outputs": [
    {
     "name": "stderr",
     "output_type": "stream",
     "text": [
      "C:\\Users\\davep\\Anaconda3\\lib\\site-packages\\matplotlib\\cbook\\__init__.py:424: MatplotlibDeprecationWarning: \n",
      "Passing one of 'on', 'true', 'off', 'false' as a boolean is deprecated; use an actual boolean (True/False) instead.\n",
      "  warn_deprecated(\"2.2\", \"Passing one of 'on', 'true', 'off', 'false' as a \"\n"
     ]
    },
    {
     "data": {
      "text/plain": [
       "<matplotlib.axes._subplots.AxesSubplot at 0x1cd6ec69898>"
      ]
     },
     "execution_count": 73,
     "metadata": {},
     "output_type": "execute_result"
    },
    {
     "data": {
      "image/png": "[encoded data removed]",
      "text/plain": [
       "<Figure size 432x288 with 1 Axes>"
      ]
     },
     "metadata": {
      "needs_background": "light"
     },
     "output_type": "display_data"
    }
   ],
   "source": [
    "skplt.metrics.plot_lift_curve(basetable[\"target\"], lg.predict_proba(basetable[current_vars]))"
   ]
  },
  {
   "cell_type": "markdown",
   "metadata": {},
   "source": [
    "* Perfect model lift curve"
   ]
  },
  {
   "cell_type": "code",
   "execution_count": 74,
   "metadata": {},
   "outputs": [],
   "source": [
    "prediction = [(1-target, target) for target in basetable[\"target\"]]"
   ]
  },
  {
   "cell_type": "code",
   "execution_count": 75,
   "metadata": {},
   "outputs": [
    {
     "name": "stderr",
     "output_type": "stream",
     "text": [
      "C:\\Users\\davep\\Anaconda3\\lib\\site-packages\\matplotlib\\cbook\\__init__.py:424: MatplotlibDeprecationWarning: \n",
      "Passing one of 'on', 'true', 'off', 'false' as a boolean is deprecated; use an actual boolean (True/False) instead.\n",
      "  warn_deprecated(\"2.2\", \"Passing one of 'on', 'true', 'off', 'false' as a \"\n"
     ]
    },
    {
     "data": {
      "text/plain": [
       "<matplotlib.axes._subplots.AxesSubplot at 0x1cd70f2e7f0>"
      ]
     },
     "execution_count": 75,
     "metadata": {},
     "output_type": "execute_result"
    },
    {
     "data": {
      "image/png": "[encoded data removed]",
      "text/plain": [
       "<Figure size 432x288 with 1 Axes>"
      ]
     },
     "metadata": {
      "needs_background": "light"
     },
     "output_type": "display_data"
    }
   ],
   "source": [
    "skplt.metrics.plot_lift_curve(basetable[\"target\"], prediction)"
   ]
  },
  {
   "cell_type": "markdown",
   "metadata": {},
   "source": [
    "* Here total targets in the population is "
   ]
  },
  {
   "cell_type": "code",
   "execution_count": 76,
   "metadata": {},
   "outputs": [
    {
     "data": {
      "text/plain": [
       "0.04748"
      ]
     },
     "execution_count": 76,
     "metadata": {},
     "output_type": "execute_result"
    }
   ],
   "source": [
    "basetable[\"target\"].mean()"
   ]
  },
  {
   "cell_type": "markdown",
   "metadata": {},
   "source": [
    "* So it is showing 100 / 4.748 = 21 as a lift. After that the lift gradually decreases because there are no targets to add anymore."
   ]
  },
  {
   "cell_type": "markdown",
   "metadata": {},
   "source": [
    "### Estimating Profit"
   ]
  },
  {
   "cell_type": "code",
   "execution_count": 77,
   "metadata": {},
   "outputs": [],
   "source": [
    "population_size = 100000\n",
    "target_incidence = 0.05\n",
    "reward_target = 50 # target will donate 50$\n",
    "cost_campaign = 2 # mail cost"
   ]
  },
  {
   "cell_type": "code",
   "execution_count": 78,
   "metadata": {},
   "outputs": [],
   "source": [
    "def profit(perc_target, perc_selected, population_size, reward_target, cost_campaign):\n",
    "    cost = cost_campaign * perc_selected * population_size\n",
    "    reward = reward_target * perc_target * perc_selected * population_size\n",
    "    return reward - cost"
   ]
  },
  {
   "cell_type": "code",
   "execution_count": 79,
   "metadata": {},
   "outputs": [],
   "source": [
    "perc_selected = 0.20 # top 20% donors\n",
    "lift = 2.5\n",
    "perc_targets = lift * target_incidence"
   ]
  },
  {
   "cell_type": "code",
   "execution_count": 80,
   "metadata": {},
   "outputs": [
    {
     "data": {
      "text/plain": [
       "85000.0"
      ]
     },
     "execution_count": 80,
     "metadata": {},
     "output_type": "execute_result"
    }
   ],
   "source": [
    "profit(perc_targets, perc_selected, population_size, reward_target, cost_campaign)"
   ]
  },
  {
   "cell_type": "markdown",
   "metadata": {},
   "source": [
    "### Model Validation\n",
    "* Ensuring model performs as expected on new data\n",
    "* Testing model performance on new data.\n",
    "* Selecting the best model, parameters and accuracy metrics\n",
    "* End goal is to get best accuracy for the given data"
   ]
  },
  {
   "cell_type": "markdown",
   "metadata": {},
   "source": [
    "* We initialize model\n",
    "```\n",
    "model = RandomForestRegressor(n_estimators = 500, random_state = 1111)\n",
    "model.fit(x_train, y_train)\n",
    "predictions = model.predict(X_test)\n",
    "mae(y_test, predictions) # Mean absolute error\n",
    "```"
   ]
  },
  {
   "cell_type": "code",
   "execution_count": 135,
   "metadata": {},
   "outputs": [],
   "source": [
    "candy = pd.read_csv(\"data/candy-data.csv\")"
   ]
  },
  {
   "cell_type": "code",
   "execution_count": 136,
   "metadata": {},
   "outputs": [
    {
     "data": {
      "text/html": [
       "<div>\n",
       "<style scoped>\n",
       "    .dataframe tbody tr th:only-of-type {\n",
       "        vertical-align: middle;\n",
       "    }\n",
       "\n",
       "    .dataframe tbody tr th {\n",
       "        vertical-align: top;\n",
       "    }\n",
       "\n",
       "    .dataframe thead th {\n",
       "        text-align: right;\n",
       "    }\n",
       "</style>\n",
       "<table border=\"1\" class=\"dataframe\">\n",
       "  <thead>\n",
       "    <tr style=\"text-align: right;\">\n",
       "      <th></th>\n",
       "      <th>competitorname</th>\n",
       "      <th>chocolate</th>\n",
       "      <th>fruity</th>\n",
       "      <th>caramel</th>\n",
       "      <th>peanutyalmondy</th>\n",
       "      <th>nougat</th>\n",
       "      <th>crispedricewafer</th>\n",
       "      <th>hard</th>\n",
       "      <th>bar</th>\n",
       "      <th>pluribus</th>\n",
       "      <th>sugarpercent</th>\n",
       "      <th>pricepercent</th>\n",
       "      <th>winpercent</th>\n",
       "    </tr>\n",
       "  </thead>\n",
       "  <tbody>\n",
       "    <tr>\n",
       "      <th>0</th>\n",
       "      <td>100 Grand</td>\n",
       "      <td>1</td>\n",
       "      <td>0</td>\n",
       "      <td>1</td>\n",
       "      <td>0</td>\n",
       "      <td>0</td>\n",
       "      <td>1</td>\n",
       "      <td>0</td>\n",
       "      <td>1</td>\n",
       "      <td>0</td>\n",
       "      <td>0.732</td>\n",
       "      <td>0.860</td>\n",
       "      <td>66.971725</td>\n",
       "    </tr>\n",
       "    <tr>\n",
       "      <th>1</th>\n",
       "      <td>3 Musketeers</td>\n",
       "      <td>1</td>\n",
       "      <td>0</td>\n",
       "      <td>0</td>\n",
       "      <td>0</td>\n",
       "      <td>1</td>\n",
       "      <td>0</td>\n",
       "      <td>0</td>\n",
       "      <td>1</td>\n",
       "      <td>0</td>\n",
       "      <td>0.604</td>\n",
       "      <td>0.511</td>\n",
       "      <td>67.602936</td>\n",
       "    </tr>\n",
       "    <tr>\n",
       "      <th>2</th>\n",
       "      <td>One dime</td>\n",
       "      <td>0</td>\n",
       "      <td>0</td>\n",
       "      <td>0</td>\n",
       "      <td>0</td>\n",
       "      <td>0</td>\n",
       "      <td>0</td>\n",
       "      <td>0</td>\n",
       "      <td>0</td>\n",
       "      <td>0</td>\n",
       "      <td>0.011</td>\n",
       "      <td>0.116</td>\n",
       "      <td>32.261086</td>\n",
       "    </tr>\n",
       "    <tr>\n",
       "      <th>3</th>\n",
       "      <td>One quarter</td>\n",
       "      <td>0</td>\n",
       "      <td>0</td>\n",
       "      <td>0</td>\n",
       "      <td>0</td>\n",
       "      <td>0</td>\n",
       "      <td>0</td>\n",
       "      <td>0</td>\n",
       "      <td>0</td>\n",
       "      <td>0</td>\n",
       "      <td>0.011</td>\n",
       "      <td>0.511</td>\n",
       "      <td>46.116505</td>\n",
       "    </tr>\n",
       "    <tr>\n",
       "      <th>4</th>\n",
       "      <td>Air Heads</td>\n",
       "      <td>0</td>\n",
       "      <td>1</td>\n",
       "      <td>0</td>\n",
       "      <td>0</td>\n",
       "      <td>0</td>\n",
       "      <td>0</td>\n",
       "      <td>0</td>\n",
       "      <td>0</td>\n",
       "      <td>0</td>\n",
       "      <td>0.906</td>\n",
       "      <td>0.511</td>\n",
       "      <td>52.341465</td>\n",
       "    </tr>\n",
       "  </tbody>\n",
       "</table>\n",
       "</div>"
      ],
      "text/plain": [
       "  competitorname  chocolate  fruity  caramel  peanutyalmondy  nougat  \\\n",
       "0      100 Grand          1       0        1               0       0   \n",
       "1   3 Musketeers          1       0        0               0       1   \n",
       "2       One dime          0       0        0               0       0   \n",
       "3    One quarter          0       0        0               0       0   \n",
       "4      Air Heads          0       1        0               0       0   \n",
       "\n",
       "   crispedricewafer  hard  bar  pluribus  sugarpercent  pricepercent  \\\n",
       "0                 1     0    1         0         0.732         0.860   \n",
       "1                 0     0    1         0         0.604         0.511   \n",
       "2                 0     0    0         0         0.011         0.116   \n",
       "3                 0     0    0         0         0.011         0.511   \n",
       "4                 0     0    0         0         0.906         0.511   \n",
       "\n",
       "   winpercent  \n",
       "0   66.971725  \n",
       "1   67.602936  \n",
       "2   32.261086  \n",
       "3   46.116505  \n",
       "4   52.341465  "
      ]
     },
     "execution_count": 136,
     "metadata": {},
     "output_type": "execute_result"
    }
   ],
   "source": [
    "candy.head()"
   ]
  },
  {
   "cell_type": "code",
   "execution_count": 137,
   "metadata": {},
   "outputs": [],
   "source": [
    "X = candy.drop(['winpercent', 'competitorname'], 1)\n",
    "y = candy['winpercent']\n",
    "X_train, X_test, y_train, y_test = train_test_split(X, y, test_size = 0.4)"
   ]
  },
  {
   "cell_type": "code",
   "execution_count": 138,
   "metadata": {},
   "outputs": [],
   "source": []
  },
  {
   "cell_type": "code",
   "execution_count": 139,
   "metadata": {},
   "outputs": [],
   "source": [
    "from sklearn.ensemble import RandomForestRegressor, RandomForestClassifier"
   ]
  },
  {
   "cell_type": "code",
   "execution_count": 140,
   "metadata": {},
   "outputs": [],
   "source": [
    "model = RandomForestRegressor(n_estimators=500, random_state=1111) # n_estimator is number of trees to create"
   ]
  },
  {
   "cell_type": "markdown",
   "metadata": {},
   "source": [
    "* We can also write as\n",
    "```\n",
    "model = RandomForestRegressor()\n",
    "model.n_estimator = 50\n",
    "model.max_depth = 10\n",
    "model.random_state = 1111\n",
    "```\n",
    "* Useful when we want to try different parameters"
   ]
  },
  {
   "cell_type": "code",
   "execution_count": 141,
   "metadata": {},
   "outputs": [
    {
     "data": {
      "text/plain": [
       "RandomForestRegressor(bootstrap=True, criterion='mse', max_depth=None,\n",
       "           max_features='auto', max_leaf_nodes=None,\n",
       "           min_impurity_decrease=0.0, min_impurity_split=None,\n",
       "           min_samples_leaf=1, min_samples_split=2,\n",
       "           min_weight_fraction_leaf=0.0, n_estimators=500, n_jobs=None,\n",
       "           oob_score=False, random_state=1111, verbose=0, warm_start=False)"
      ]
     },
     "execution_count": 141,
     "metadata": {},
     "output_type": "execute_result"
    }
   ],
   "source": [
    "model.fit(X_train, y_train)"
   ]
  },
  {
   "cell_type": "code",
   "execution_count": 142,
   "metadata": {},
   "outputs": [],
   "source": [
    "train_predictions = model.predict(X_train)\n",
    "test_predictions = model.predict(X_test)"
   ]
  },
  {
   "cell_type": "code",
   "execution_count": 147,
   "metadata": {},
   "outputs": [],
   "source": [
    "from sklearn.metrics import mean_absolute_error, mean_squared_error"
   ]
  },
  {
   "cell_type": "code",
   "execution_count": 144,
   "metadata": {},
   "outputs": [],
   "source": [
    "train_error = mean_absolute_error(y_train, train_predictions)\n",
    "test_error = mean_absolute_error(y_test, test_predictions)"
   ]
  },
  {
   "cell_type": "code",
   "execution_count": 145,
   "metadata": {},
   "outputs": [
    {
     "data": {
      "text/plain": [
       "3.929698126825868"
      ]
     },
     "execution_count": 145,
     "metadata": {},
     "output_type": "execute_result"
    }
   ],
   "source": [
    "train_error"
   ]
  },
  {
   "cell_type": "code",
   "execution_count": 146,
   "metadata": {},
   "outputs": [
    {
     "data": {
      "text/plain": [
       "8.512871127030738"
      ]
     },
     "execution_count": 146,
     "metadata": {},
     "output_type": "execute_result"
    }
   ],
   "source": [
    "test_error # about 8.51% off when predicting win %"
   ]
  },
  {
   "cell_type": "code",
   "execution_count": 148,
   "metadata": {},
   "outputs": [
    {
     "data": {
      "text/plain": [
       "118.16241096309543"
      ]
     },
     "execution_count": 148,
     "metadata": {},
     "output_type": "execute_result"
    }
   ],
   "source": [
    "mean_squared_error(y_test, test_predictions) "
   ]
  },
  {
   "cell_type": "markdown",
   "metadata": {},
   "source": [
    "#### Accuracy on subset of data"
   ]
  },
  {
   "cell_type": "code",
   "execution_count": 152,
   "metadata": {},
   "outputs": [
    {
     "data": {
      "text/html": [
       "<div>\n",
       "<style scoped>\n",
       "    .dataframe tbody tr th:only-of-type {\n",
       "        vertical-align: middle;\n",
       "    }\n",
       "\n",
       "    .dataframe tbody tr th {\n",
       "        vertical-align: top;\n",
       "    }\n",
       "\n",
       "    .dataframe thead th {\n",
       "        text-align: right;\n",
       "    }\n",
       "</style>\n",
       "<table border=\"1\" class=\"dataframe\">\n",
       "  <thead>\n",
       "    <tr style=\"text-align: right;\">\n",
       "      <th></th>\n",
       "      <th>chocolate</th>\n",
       "      <th>fruity</th>\n",
       "      <th>caramel</th>\n",
       "      <th>peanutyalmondy</th>\n",
       "      <th>nougat</th>\n",
       "      <th>crispedricewafer</th>\n",
       "      <th>hard</th>\n",
       "      <th>bar</th>\n",
       "      <th>pluribus</th>\n",
       "      <th>sugarpercent</th>\n",
       "      <th>pricepercent</th>\n",
       "    </tr>\n",
       "  </thead>\n",
       "  <tbody>\n",
       "    <tr>\n",
       "      <th>23</th>\n",
       "      <td>1</td>\n",
       "      <td>0</td>\n",
       "      <td>0</td>\n",
       "      <td>0</td>\n",
       "      <td>0</td>\n",
       "      <td>1</td>\n",
       "      <td>0</td>\n",
       "      <td>1</td>\n",
       "      <td>0</td>\n",
       "      <td>0.430</td>\n",
       "      <td>0.918</td>\n",
       "    </tr>\n",
       "    <tr>\n",
       "      <th>54</th>\n",
       "      <td>1</td>\n",
       "      <td>0</td>\n",
       "      <td>0</td>\n",
       "      <td>1</td>\n",
       "      <td>0</td>\n",
       "      <td>0</td>\n",
       "      <td>0</td>\n",
       "      <td>0</td>\n",
       "      <td>0</td>\n",
       "      <td>0.988</td>\n",
       "      <td>0.651</td>\n",
       "    </tr>\n",
       "    <tr>\n",
       "      <th>25</th>\n",
       "      <td>1</td>\n",
       "      <td>0</td>\n",
       "      <td>0</td>\n",
       "      <td>0</td>\n",
       "      <td>0</td>\n",
       "      <td>0</td>\n",
       "      <td>0</td>\n",
       "      <td>1</td>\n",
       "      <td>0</td>\n",
       "      <td>0.430</td>\n",
       "      <td>0.918</td>\n",
       "    </tr>\n",
       "    <tr>\n",
       "      <th>42</th>\n",
       "      <td>1</td>\n",
       "      <td>0</td>\n",
       "      <td>0</td>\n",
       "      <td>1</td>\n",
       "      <td>0</td>\n",
       "      <td>0</td>\n",
       "      <td>0</td>\n",
       "      <td>1</td>\n",
       "      <td>0</td>\n",
       "      <td>0.604</td>\n",
       "      <td>0.767</td>\n",
       "    </tr>\n",
       "    <tr>\n",
       "      <th>57</th>\n",
       "      <td>0</td>\n",
       "      <td>0</td>\n",
       "      <td>0</td>\n",
       "      <td>0</td>\n",
       "      <td>0</td>\n",
       "      <td>0</td>\n",
       "      <td>1</td>\n",
       "      <td>0</td>\n",
       "      <td>1</td>\n",
       "      <td>0.732</td>\n",
       "      <td>0.069</td>\n",
       "    </tr>\n",
       "    <tr>\n",
       "      <th>37</th>\n",
       "      <td>1</td>\n",
       "      <td>0</td>\n",
       "      <td>1</td>\n",
       "      <td>0</td>\n",
       "      <td>1</td>\n",
       "      <td>0</td>\n",
       "      <td>0</td>\n",
       "      <td>1</td>\n",
       "      <td>0</td>\n",
       "      <td>0.732</td>\n",
       "      <td>0.441</td>\n",
       "    </tr>\n",
       "    <tr>\n",
       "      <th>69</th>\n",
       "      <td>0</td>\n",
       "      <td>1</td>\n",
       "      <td>0</td>\n",
       "      <td>0</td>\n",
       "      <td>0</td>\n",
       "      <td>0</td>\n",
       "      <td>1</td>\n",
       "      <td>0</td>\n",
       "      <td>1</td>\n",
       "      <td>0.569</td>\n",
       "      <td>0.058</td>\n",
       "    </tr>\n",
       "    <tr>\n",
       "      <th>82</th>\n",
       "      <td>0</td>\n",
       "      <td>1</td>\n",
       "      <td>0</td>\n",
       "      <td>0</td>\n",
       "      <td>0</td>\n",
       "      <td>0</td>\n",
       "      <td>0</td>\n",
       "      <td>0</td>\n",
       "      <td>1</td>\n",
       "      <td>0.313</td>\n",
       "      <td>0.313</td>\n",
       "    </tr>\n",
       "    <tr>\n",
       "      <th>72</th>\n",
       "      <td>0</td>\n",
       "      <td>1</td>\n",
       "      <td>0</td>\n",
       "      <td>0</td>\n",
       "      <td>0</td>\n",
       "      <td>0</td>\n",
       "      <td>0</td>\n",
       "      <td>0</td>\n",
       "      <td>0</td>\n",
       "      <td>0.162</td>\n",
       "      <td>0.116</td>\n",
       "    </tr>\n",
       "    <tr>\n",
       "      <th>65</th>\n",
       "      <td>1</td>\n",
       "      <td>0</td>\n",
       "      <td>1</td>\n",
       "      <td>1</td>\n",
       "      <td>0</td>\n",
       "      <td>1</td>\n",
       "      <td>0</td>\n",
       "      <td>1</td>\n",
       "      <td>0</td>\n",
       "      <td>0.604</td>\n",
       "      <td>0.651</td>\n",
       "    </tr>\n",
       "    <tr>\n",
       "      <th>12</th>\n",
       "      <td>0</td>\n",
       "      <td>1</td>\n",
       "      <td>0</td>\n",
       "      <td>0</td>\n",
       "      <td>0</td>\n",
       "      <td>0</td>\n",
       "      <td>0</td>\n",
       "      <td>0</td>\n",
       "      <td>1</td>\n",
       "      <td>0.046</td>\n",
       "      <td>0.325</td>\n",
       "    </tr>\n",
       "    <tr>\n",
       "      <th>48</th>\n",
       "      <td>0</td>\n",
       "      <td>0</td>\n",
       "      <td>0</td>\n",
       "      <td>0</td>\n",
       "      <td>0</td>\n",
       "      <td>0</td>\n",
       "      <td>0</td>\n",
       "      <td>0</td>\n",
       "      <td>1</td>\n",
       "      <td>0.093</td>\n",
       "      <td>0.023</td>\n",
       "    </tr>\n",
       "    <tr>\n",
       "      <th>15</th>\n",
       "      <td>0</td>\n",
       "      <td>1</td>\n",
       "      <td>0</td>\n",
       "      <td>0</td>\n",
       "      <td>0</td>\n",
       "      <td>0</td>\n",
       "      <td>0</td>\n",
       "      <td>0</td>\n",
       "      <td>1</td>\n",
       "      <td>0.127</td>\n",
       "      <td>0.034</td>\n",
       "    </tr>\n",
       "    <tr>\n",
       "      <th>76</th>\n",
       "      <td>1</td>\n",
       "      <td>0</td>\n",
       "      <td>0</td>\n",
       "      <td>0</td>\n",
       "      <td>0</td>\n",
       "      <td>0</td>\n",
       "      <td>0</td>\n",
       "      <td>0</td>\n",
       "      <td>1</td>\n",
       "      <td>0.174</td>\n",
       "      <td>0.011</td>\n",
       "    </tr>\n",
       "    <tr>\n",
       "      <th>4</th>\n",
       "      <td>0</td>\n",
       "      <td>1</td>\n",
       "      <td>0</td>\n",
       "      <td>0</td>\n",
       "      <td>0</td>\n",
       "      <td>0</td>\n",
       "      <td>0</td>\n",
       "      <td>0</td>\n",
       "      <td>0</td>\n",
       "      <td>0.906</td>\n",
       "      <td>0.511</td>\n",
       "    </tr>\n",
       "    <tr>\n",
       "      <th>55</th>\n",
       "      <td>0</td>\n",
       "      <td>1</td>\n",
       "      <td>0</td>\n",
       "      <td>0</td>\n",
       "      <td>0</td>\n",
       "      <td>0</td>\n",
       "      <td>1</td>\n",
       "      <td>0</td>\n",
       "      <td>0</td>\n",
       "      <td>0.732</td>\n",
       "      <td>0.965</td>\n",
       "    </tr>\n",
       "    <tr>\n",
       "      <th>47</th>\n",
       "      <td>1</td>\n",
       "      <td>0</td>\n",
       "      <td>0</td>\n",
       "      <td>1</td>\n",
       "      <td>0</td>\n",
       "      <td>0</td>\n",
       "      <td>0</td>\n",
       "      <td>0</td>\n",
       "      <td>1</td>\n",
       "      <td>0.593</td>\n",
       "      <td>0.651</td>\n",
       "    </tr>\n",
       "    <tr>\n",
       "      <th>50</th>\n",
       "      <td>0</td>\n",
       "      <td>1</td>\n",
       "      <td>0</td>\n",
       "      <td>0</td>\n",
       "      <td>0</td>\n",
       "      <td>0</td>\n",
       "      <td>0</td>\n",
       "      <td>0</td>\n",
       "      <td>1</td>\n",
       "      <td>0.581</td>\n",
       "      <td>0.116</td>\n",
       "    </tr>\n",
       "    <tr>\n",
       "      <th>63</th>\n",
       "      <td>0</td>\n",
       "      <td>1</td>\n",
       "      <td>0</td>\n",
       "      <td>0</td>\n",
       "      <td>0</td>\n",
       "      <td>0</td>\n",
       "      <td>1</td>\n",
       "      <td>0</td>\n",
       "      <td>1</td>\n",
       "      <td>0.267</td>\n",
       "      <td>0.116</td>\n",
       "    </tr>\n",
       "    <tr>\n",
       "      <th>60</th>\n",
       "      <td>0</td>\n",
       "      <td>1</td>\n",
       "      <td>0</td>\n",
       "      <td>0</td>\n",
       "      <td>0</td>\n",
       "      <td>0</td>\n",
       "      <td>0</td>\n",
       "      <td>0</td>\n",
       "      <td>1</td>\n",
       "      <td>0.941</td>\n",
       "      <td>0.220</td>\n",
       "    </tr>\n",
       "    <tr>\n",
       "      <th>71</th>\n",
       "      <td>0</td>\n",
       "      <td>0</td>\n",
       "      <td>1</td>\n",
       "      <td>0</td>\n",
       "      <td>0</td>\n",
       "      <td>0</td>\n",
       "      <td>0</td>\n",
       "      <td>0</td>\n",
       "      <td>0</td>\n",
       "      <td>0.418</td>\n",
       "      <td>0.325</td>\n",
       "    </tr>\n",
       "    <tr>\n",
       "      <th>46</th>\n",
       "      <td>0</td>\n",
       "      <td>0</td>\n",
       "      <td>0</td>\n",
       "      <td>1</td>\n",
       "      <td>1</td>\n",
       "      <td>0</td>\n",
       "      <td>0</td>\n",
       "      <td>1</td>\n",
       "      <td>0</td>\n",
       "      <td>0.465</td>\n",
       "      <td>0.767</td>\n",
       "    </tr>\n",
       "    <tr>\n",
       "      <th>66</th>\n",
       "      <td>0</td>\n",
       "      <td>1</td>\n",
       "      <td>0</td>\n",
       "      <td>0</td>\n",
       "      <td>0</td>\n",
       "      <td>0</td>\n",
       "      <td>0</td>\n",
       "      <td>0</td>\n",
       "      <td>1</td>\n",
       "      <td>0.069</td>\n",
       "      <td>0.116</td>\n",
       "    </tr>\n",
       "    <tr>\n",
       "      <th>24</th>\n",
       "      <td>1</td>\n",
       "      <td>0</td>\n",
       "      <td>0</td>\n",
       "      <td>0</td>\n",
       "      <td>0</td>\n",
       "      <td>0</td>\n",
       "      <td>0</td>\n",
       "      <td>1</td>\n",
       "      <td>0</td>\n",
       "      <td>0.430</td>\n",
       "      <td>0.918</td>\n",
       "    </tr>\n",
       "    <tr>\n",
       "      <th>83</th>\n",
       "      <td>0</td>\n",
       "      <td>0</td>\n",
       "      <td>1</td>\n",
       "      <td>0</td>\n",
       "      <td>0</td>\n",
       "      <td>0</td>\n",
       "      <td>1</td>\n",
       "      <td>0</td>\n",
       "      <td>0</td>\n",
       "      <td>0.186</td>\n",
       "      <td>0.267</td>\n",
       "    </tr>\n",
       "    <tr>\n",
       "      <th>41</th>\n",
       "      <td>0</td>\n",
       "      <td>1</td>\n",
       "      <td>0</td>\n",
       "      <td>0</td>\n",
       "      <td>0</td>\n",
       "      <td>0</td>\n",
       "      <td>1</td>\n",
       "      <td>0</td>\n",
       "      <td>1</td>\n",
       "      <td>0.848</td>\n",
       "      <td>0.325</td>\n",
       "    </tr>\n",
       "    <tr>\n",
       "      <th>53</th>\n",
       "      <td>1</td>\n",
       "      <td>0</td>\n",
       "      <td>0</td>\n",
       "      <td>1</td>\n",
       "      <td>0</td>\n",
       "      <td>0</td>\n",
       "      <td>0</td>\n",
       "      <td>0</td>\n",
       "      <td>1</td>\n",
       "      <td>0.406</td>\n",
       "      <td>0.651</td>\n",
       "    </tr>\n",
       "    <tr>\n",
       "      <th>30</th>\n",
       "      <td>0</td>\n",
       "      <td>1</td>\n",
       "      <td>0</td>\n",
       "      <td>0</td>\n",
       "      <td>0</td>\n",
       "      <td>0</td>\n",
       "      <td>1</td>\n",
       "      <td>0</td>\n",
       "      <td>0</td>\n",
       "      <td>0.046</td>\n",
       "      <td>0.104</td>\n",
       "    </tr>\n",
       "    <tr>\n",
       "      <th>62</th>\n",
       "      <td>1</td>\n",
       "      <td>0</td>\n",
       "      <td>0</td>\n",
       "      <td>0</td>\n",
       "      <td>0</td>\n",
       "      <td>0</td>\n",
       "      <td>0</td>\n",
       "      <td>0</td>\n",
       "      <td>1</td>\n",
       "      <td>0.267</td>\n",
       "      <td>0.976</td>\n",
       "    </tr>\n",
       "    <tr>\n",
       "      <th>38</th>\n",
       "      <td>1</td>\n",
       "      <td>0</td>\n",
       "      <td>1</td>\n",
       "      <td>0</td>\n",
       "      <td>0</td>\n",
       "      <td>0</td>\n",
       "      <td>0</td>\n",
       "      <td>1</td>\n",
       "      <td>0</td>\n",
       "      <td>0.965</td>\n",
       "      <td>0.860</td>\n",
       "    </tr>\n",
       "    <tr>\n",
       "      <th>84</th>\n",
       "      <td>1</td>\n",
       "      <td>0</td>\n",
       "      <td>0</td>\n",
       "      <td>0</td>\n",
       "      <td>0</td>\n",
       "      <td>1</td>\n",
       "      <td>0</td>\n",
       "      <td>0</td>\n",
       "      <td>1</td>\n",
       "      <td>0.872</td>\n",
       "      <td>0.848</td>\n",
       "    </tr>\n",
       "    <tr>\n",
       "      <th>49</th>\n",
       "      <td>0</td>\n",
       "      <td>1</td>\n",
       "      <td>0</td>\n",
       "      <td>0</td>\n",
       "      <td>0</td>\n",
       "      <td>0</td>\n",
       "      <td>1</td>\n",
       "      <td>0</td>\n",
       "      <td>1</td>\n",
       "      <td>0.604</td>\n",
       "      <td>0.837</td>\n",
       "    </tr>\n",
       "    <tr>\n",
       "      <th>45</th>\n",
       "      <td>0</td>\n",
       "      <td>1</td>\n",
       "      <td>0</td>\n",
       "      <td>0</td>\n",
       "      <td>0</td>\n",
       "      <td>0</td>\n",
       "      <td>0</td>\n",
       "      <td>0</td>\n",
       "      <td>1</td>\n",
       "      <td>0.220</td>\n",
       "      <td>0.325</td>\n",
       "    </tr>\n",
       "    <tr>\n",
       "      <th>73</th>\n",
       "      <td>0</td>\n",
       "      <td>1</td>\n",
       "      <td>0</td>\n",
       "      <td>0</td>\n",
       "      <td>0</td>\n",
       "      <td>0</td>\n",
       "      <td>0</td>\n",
       "      <td>0</td>\n",
       "      <td>1</td>\n",
       "      <td>0.604</td>\n",
       "      <td>0.755</td>\n",
       "    </tr>\n",
       "  </tbody>\n",
       "</table>\n",
       "</div>"
      ],
      "text/plain": [
       "    chocolate  fruity  caramel  peanutyalmondy  nougat  crispedricewafer  \\\n",
       "23          1       0        0               0       0                 1   \n",
       "54          1       0        0               1       0                 0   \n",
       "25          1       0        0               0       0                 0   \n",
       "42          1       0        0               1       0                 0   \n",
       "57          0       0        0               0       0                 0   \n",
       "37          1       0        1               0       1                 0   \n",
       "69          0       1        0               0       0                 0   \n",
       "82          0       1        0               0       0                 0   \n",
       "72          0       1        0               0       0                 0   \n",
       "65          1       0        1               1       0                 1   \n",
       "12          0       1        0               0       0                 0   \n",
       "48          0       0        0               0       0                 0   \n",
       "15          0       1        0               0       0                 0   \n",
       "76          1       0        0               0       0                 0   \n",
       "4           0       1        0               0       0                 0   \n",
       "55          0       1        0               0       0                 0   \n",
       "47          1       0        0               1       0                 0   \n",
       "50          0       1        0               0       0                 0   \n",
       "63          0       1        0               0       0                 0   \n",
       "60          0       1        0               0       0                 0   \n",
       "71          0       0        1               0       0                 0   \n",
       "46          0       0        0               1       1                 0   \n",
       "66          0       1        0               0       0                 0   \n",
       "24          1       0        0               0       0                 0   \n",
       "83          0       0        1               0       0                 0   \n",
       "41          0       1        0               0       0                 0   \n",
       "53          1       0        0               1       0                 0   \n",
       "30          0       1        0               0       0                 0   \n",
       "62          1       0        0               0       0                 0   \n",
       "38          1       0        1               0       0                 0   \n",
       "84          1       0        0               0       0                 1   \n",
       "49          0       1        0               0       0                 0   \n",
       "45          0       1        0               0       0                 0   \n",
       "73          0       1        0               0       0                 0   \n",
       "\n",
       "    hard  bar  pluribus  sugarpercent  pricepercent  \n",
       "23     0    1         0         0.430         0.918  \n",
       "54     0    0         0         0.988         0.651  \n",
       "25     0    1         0         0.430         0.918  \n",
       "42     0    1         0         0.604         0.767  \n",
       "57     1    0         1         0.732         0.069  \n",
       "37     0    1         0         0.732         0.441  \n",
       "69     1    0         1         0.569         0.058  \n",
       "82     0    0         1         0.313         0.313  \n",
       "72     0    0         0         0.162         0.116  \n",
       "65     0    1         0         0.604         0.651  \n",
       "12     0    0         1         0.046         0.325  \n",
       "48     0    0         1         0.093         0.023  \n",
       "15     0    0         1         0.127         0.034  \n",
       "76     0    0         1         0.174         0.011  \n",
       "4      0    0         0         0.906         0.511  \n",
       "55     1    0         0         0.732         0.965  \n",
       "47     0    0         1         0.593         0.651  \n",
       "50     0    0         1         0.581         0.116  \n",
       "63     1    0         1         0.267         0.116  \n",
       "60     0    0         1         0.941         0.220  \n",
       "71     0    0         0         0.418         0.325  \n",
       "46     0    1         0         0.465         0.767  \n",
       "66     0    0         1         0.069         0.116  \n",
       "24     0    1         0         0.430         0.918  \n",
       "83     1    0         0         0.186         0.267  \n",
       "41     1    0         1         0.848         0.325  \n",
       "53     0    0         1         0.406         0.651  \n",
       "30     1    0         0         0.046         0.104  \n",
       "62     0    0         1         0.267         0.976  \n",
       "38     0    1         0         0.965         0.860  \n",
       "84     0    0         1         0.872         0.848  \n",
       "49     1    0         1         0.604         0.837  \n",
       "45     0    0         1         0.220         0.325  \n",
       "73     0    0         1         0.604         0.755  "
      ]
     },
     "execution_count": 152,
     "metadata": {},
     "output_type": "execute_result"
    }
   ],
   "source": [
    "X_test"
   ]
  },
  {
   "cell_type": "code",
   "execution_count": 153,
   "metadata": {},
   "outputs": [],
   "source": [
    "chocolate_preds = model.predict(X_test[X_test.chocolate == 1])"
   ]
  },
  {
   "cell_type": "code",
   "execution_count": 154,
   "metadata": {},
   "outputs": [
    {
     "data": {
      "text/plain": [
       "6.773974148193773"
      ]
     },
     "execution_count": 154,
     "metadata": {},
     "output_type": "execute_result"
    }
   ],
   "source": [
    "mean_absolute_error(y_test[X_test.chocolate==1], chocolate_preds)"
   ]
  },
  {
   "cell_type": "code",
   "execution_count": 157,
   "metadata": {},
   "outputs": [],
   "source": [
    "nonchocolate_preds = model.predict(X_test[X_test.chocolate == 0])"
   ]
  },
  {
   "cell_type": "code",
   "execution_count": 159,
   "metadata": {},
   "outputs": [
    {
     "data": {
      "text/plain": [
       "9.589331161548857"
      ]
     },
     "execution_count": 159,
     "metadata": {},
     "output_type": "execute_result"
    }
   ],
   "source": [
    "mean_absolute_error(y_test[X_test.chocolate==0], nonchocolate_preds)"
   ]
  },
  {
   "cell_type": "markdown",
   "metadata": {},
   "source": [
    "* On Chocolate candies model performed better"
   ]
  },
  {
   "cell_type": "code",
   "execution_count": 116,
   "metadata": {},
   "outputs": [
    {
     "name": "stdout",
     "output_type": "stream",
     "text": [
      "chocolate 0.4828658707081401\n",
      "fruity 0.04476025792270834\n",
      "caramel 0.009716147554822127\n",
      "peanutyalmondy 0.055280608933520395\n",
      "nougat 0.003066469558273492\n",
      "crispedricewafer 0.013713949109437679\n",
      "hard 0.016379919709004744\n",
      "bar 0.015543945127960994\n",
      "pluribus 0.026779879727023868\n",
      "sugarpercent 0.19951837672370118\n",
      "pricepercent 0.13237457492540736\n"
     ]
    }
   ],
   "source": [
    "for i, item in enumerate(model.feature_importances_):\n",
    "    print(X.columns[i], item)"
   ]
  },
  {
   "cell_type": "code",
   "execution_count": 117,
   "metadata": {},
   "outputs": [
    {
     "data": {
      "text/plain": [
       "{'bootstrap': True,\n",
       " 'criterion': 'mse',\n",
       " 'max_depth': None,\n",
       " 'max_features': 'auto',\n",
       " 'max_leaf_nodes': None,\n",
       " 'min_impurity_decrease': 0.0,\n",
       " 'min_impurity_split': None,\n",
       " 'min_samples_leaf': 1,\n",
       " 'min_samples_split': 2,\n",
       " 'min_weight_fraction_leaf': 0.0,\n",
       " 'n_estimators': 500,\n",
       " 'n_jobs': None,\n",
       " 'oob_score': False,\n",
       " 'random_state': 1111,\n",
       " 'verbose': 0,\n",
       " 'warm_start': False}"
      ]
     },
     "execution_count": 117,
     "metadata": {},
     "output_type": "execute_result"
    }
   ],
   "source": [
    "model.get_params()"
   ]
  },
  {
   "cell_type": "code",
   "execution_count": 118,
   "metadata": {},
   "outputs": [],
   "source": [
    "ttt = pd.read_csv(\"data/tic-tac-toe.csv\")"
   ]
  },
  {
   "cell_type": "code",
   "execution_count": 120,
   "metadata": {},
   "outputs": [
    {
     "data": {
      "text/html": [
       "<div>\n",
       "<style scoped>\n",
       "    .dataframe tbody tr th:only-of-type {\n",
       "        vertical-align: middle;\n",
       "    }\n",
       "\n",
       "    .dataframe tbody tr th {\n",
       "        vertical-align: top;\n",
       "    }\n",
       "\n",
       "    .dataframe thead th {\n",
       "        text-align: right;\n",
       "    }\n",
       "</style>\n",
       "<table border=\"1\" class=\"dataframe\">\n",
       "  <thead>\n",
       "    <tr style=\"text-align: right;\">\n",
       "      <th></th>\n",
       "      <th>Top-Left</th>\n",
       "      <th>Top-Middle</th>\n",
       "      <th>Top-Right</th>\n",
       "      <th>Middle-Left</th>\n",
       "      <th>Middle-Middle</th>\n",
       "      <th>Middle-Right</th>\n",
       "      <th>Bottom-Left</th>\n",
       "      <th>Bottom-Middle</th>\n",
       "      <th>Bottom-Right</th>\n",
       "      <th>Class</th>\n",
       "    </tr>\n",
       "  </thead>\n",
       "  <tbody>\n",
       "    <tr>\n",
       "      <th>0</th>\n",
       "      <td>x</td>\n",
       "      <td>x</td>\n",
       "      <td>x</td>\n",
       "      <td>x</td>\n",
       "      <td>o</td>\n",
       "      <td>o</td>\n",
       "      <td>x</td>\n",
       "      <td>o</td>\n",
       "      <td>o</td>\n",
       "      <td>positive</td>\n",
       "    </tr>\n",
       "    <tr>\n",
       "      <th>1</th>\n",
       "      <td>x</td>\n",
       "      <td>x</td>\n",
       "      <td>x</td>\n",
       "      <td>x</td>\n",
       "      <td>o</td>\n",
       "      <td>o</td>\n",
       "      <td>o</td>\n",
       "      <td>x</td>\n",
       "      <td>o</td>\n",
       "      <td>positive</td>\n",
       "    </tr>\n",
       "    <tr>\n",
       "      <th>2</th>\n",
       "      <td>x</td>\n",
       "      <td>x</td>\n",
       "      <td>x</td>\n",
       "      <td>x</td>\n",
       "      <td>o</td>\n",
       "      <td>o</td>\n",
       "      <td>o</td>\n",
       "      <td>o</td>\n",
       "      <td>x</td>\n",
       "      <td>positive</td>\n",
       "    </tr>\n",
       "    <tr>\n",
       "      <th>3</th>\n",
       "      <td>x</td>\n",
       "      <td>x</td>\n",
       "      <td>x</td>\n",
       "      <td>x</td>\n",
       "      <td>o</td>\n",
       "      <td>o</td>\n",
       "      <td>o</td>\n",
       "      <td>b</td>\n",
       "      <td>b</td>\n",
       "      <td>positive</td>\n",
       "    </tr>\n",
       "    <tr>\n",
       "      <th>4</th>\n",
       "      <td>x</td>\n",
       "      <td>x</td>\n",
       "      <td>x</td>\n",
       "      <td>x</td>\n",
       "      <td>o</td>\n",
       "      <td>o</td>\n",
       "      <td>b</td>\n",
       "      <td>o</td>\n",
       "      <td>b</td>\n",
       "      <td>positive</td>\n",
       "    </tr>\n",
       "  </tbody>\n",
       "</table>\n",
       "</div>"
      ],
      "text/plain": [
       "  Top-Left Top-Middle Top-Right Middle-Left Middle-Middle Middle-Right  \\\n",
       "0        x          x         x           x             o            o   \n",
       "1        x          x         x           x             o            o   \n",
       "2        x          x         x           x             o            o   \n",
       "3        x          x         x           x             o            o   \n",
       "4        x          x         x           x             o            o   \n",
       "\n",
       "  Bottom-Left Bottom-Middle Bottom-Right     Class  \n",
       "0           x             o            o  positive  \n",
       "1           o             x            o  positive  \n",
       "2           o             o            x  positive  \n",
       "3           o             b            b  positive  \n",
       "4           b             o            b  positive  "
      ]
     },
     "execution_count": 120,
     "metadata": {},
     "output_type": "execute_result"
    }
   ],
   "source": [
    "ttt.head()"
   ]
  },
  {
   "cell_type": "code",
   "execution_count": 128,
   "metadata": {},
   "outputs": [],
   "source": [
    "X = pd.get_dummies(ttt.iloc[:, 0:9])\n",
    "y = ttt.iloc[:, 9]"
   ]
  },
  {
   "cell_type": "code",
   "execution_count": 133,
   "metadata": {},
   "outputs": [],
   "source": [
    "X_temp, X_test, y_temp, y_test = train_test_split(X, y, test_size = 0.2, random_state=1111)"
   ]
  },
  {
   "cell_type": "code",
   "execution_count": 134,
   "metadata": {},
   "outputs": [],
   "source": [
    "X_train, X_val, y_train, y_val = train_test_split(X_temp, y_temp, test_size = 0.25, random_state=1111) # validation dataset"
   ]
  },
  {
   "cell_type": "markdown",
   "metadata": {},
   "source": [
    "* When testing parameters, tuning hyper-parameters, or anytime you are frequently evaluating model performance we need validation data"
   ]
  },
  {
   "cell_type": "markdown",
   "metadata": {},
   "source": [
    "### MAE (Mean Absolute Error)\n",
    "* Simplest and most intuitive\n",
    "* Treats all points equally\n",
    "* Not sensitive to outliers\n",
    "\n",
    "### MSE (Mean Squared Error)\n",
    "* Allows outlier errors to contribute more to the overall error\n",
    "* Random family road trips could create large error."
   ]
  },
  {
   "cell_type": "markdown",
   "metadata": {},
   "source": [
    "### Classification metrics\n",
    "- Precision : Number of true positive, out of all predicted positives $\\frac{TP}{TP + FP}$. Used when we do not want to overpredict positive values. Only invite applicant for on site those really interested.\n",
    "- Recall (Sensitivity) : Finding all positive values $\\frac{TP}{TP + FN}$. Used when we can not afford any true positive values. Cancer detection.\n",
    "- Accuracy : Overall ability of model to correctly predict correct classification $\\frac{TN + TP}{Total\\ Observations} Number of items labeled correctly divide by total all items\n",
    "- Specificity\n",
    "- F1-score\n",
    "- Confusion matrix\n",
    "\n",
    "```\n",
    "from sklearn.metrics import confusion_matrix\n",
    "cm = confusion_matrix(y_test, test_predictions) # row index is true, column is predicted.\n",
    "\n",
    "from sklearn.metrics import accuracy_score, precision_score, recall_score\n",
    "accuracy_score(y_test, test_predictions)\n",
    "precision_score(y_test, test_predictions)\n",
    "recall_score(y_test, test_predictions)\n",
    "```"
   ]
  },
  {
   "cell_type": "markdown",
   "metadata": {},
   "source": [
    "```\n",
    "classification_predictions = rfc.predict(X_test)\n",
    "probability_predictions = rfc.predict_proba(X_test)\n",
    "rfc.score(X_test, y_test) # prints model accuracy\n",
    "```"
   ]
  },
  {
   "cell_type": "markdown",
   "metadata": {},
   "source": [
    "### Overfitting UnderFitting\n",
    "* Undefitting is hard to identify as both test and train error are high. Not enough trees or trees are not deep enough."
   ]
  },
  {
   "cell_type": "markdown",
   "metadata": {},
   "source": [
    "### Cross Validation"
   ]
  },
  {
   "cell_type": "markdown",
   "metadata": {},
   "source": [
    "* With different sample we get different results. Using just holdout sample When we have limited data, accuracy can be misleading. Use cross validation."
   ]
  },
  {
   "cell_type": "markdown",
   "metadata": {},
   "source": [
    "* 5 fold cross validation\n",
    "    - Each time we run the model 80% of data used for training and 20 % used for validation. All data is used in only one of the validation sets. Every point is used for validation exactly one time, such thing is not required but good practice.\n",
    "    ![](images/cross_validation.PNG)"
   ]
  },
  {
   "cell_type": "code",
   "execution_count": 160,
   "metadata": {},
   "outputs": [],
   "source": [
    "from sklearn.model_selection import KFold"
   ]
  },
  {
   "cell_type": "code",
   "execution_count": 161,
   "metadata": {},
   "outputs": [],
   "source": [
    "X = np.array(range(40))\n",
    "y = np.array([0] * 20 + [1] * 20)"
   ]
  },
  {
   "cell_type": "code",
   "execution_count": 162,
   "metadata": {},
   "outputs": [],
   "source": [
    "kf = KFold(n_splits=5) # n_splits is number of cross-validation splits, shuffle: boolean shuffle data before splitting, random_state"
   ]
  },
  {
   "cell_type": "code",
   "execution_count": 163,
   "metadata": {},
   "outputs": [
    {
     "data": {
      "text/plain": [
       "KFold(n_splits=5, random_state=None, shuffle=False)"
      ]
     },
     "execution_count": 163,
     "metadata": {},
     "output_type": "execute_result"
    }
   ],
   "source": [
    "kf"
   ]
  },
  {
   "cell_type": "code",
   "execution_count": 168,
   "metadata": {},
   "outputs": [],
   "source": [
    "splits = kf.split(X) # returns list of indices that can be used for splits for 5 different splits of X"
   ]
  },
  {
   "cell_type": "code",
   "execution_count": 169,
   "metadata": {},
   "outputs": [
    {
     "name": "stdout",
     "output_type": "stream",
     "text": [
      "32 8\n",
      "32 8\n",
      "32 8\n",
      "32 8\n",
      "32 8\n"
     ]
    }
   ],
   "source": [
    "for train_index, test_index in splits:\n",
    "    print(len(train_index), len(test_index))"
   ]
  },
  {
   "cell_type": "markdown",
   "metadata": {},
   "source": [
    "* Used when we want to fit same fodel using KFold cross validation"
   ]
  },
  {
   "cell_type": "markdown",
   "metadata": {},
   "source": [
    "* We can look at the mean of final error score of all 5 models"
   ]
  },
  {
   "cell_type": "markdown",
   "metadata": {},
   "source": [
    "### cross_val_score"
   ]
  },
  {
   "cell_type": "code",
   "execution_count": 171,
   "metadata": {},
   "outputs": [],
   "source": [
    "from sklearn.model_selection import cross_val_score"
   ]
  },
  {
   "cell_type": "markdown",
   "metadata": {},
   "source": [
    "* estimator: model to use\n",
    "* X: the predictor dataset\n",
    "* y :response array\n",
    "* cv: number of cross-validation splits"
   ]
  },
  {
   "cell_type": "markdown",
   "metadata": {},
   "source": [
    "cross_val_score(estimator=model, X=X,y=y,cv=5)"
   ]
  },
  {
   "cell_type": "markdown",
   "metadata": {},
   "source": [
    "* For most regression model it returns R2 value"
   ]
  },
  {
   "cell_type": "markdown",
   "metadata": {},
   "source": [
    "* To have different score"
   ]
  },
  {
   "cell_type": "code",
   "execution_count": 175,
   "metadata": {},
   "outputs": [],
   "source": [
    "from sklearn.metrics import mean_absolute_error, make_scorer"
   ]
  },
  {
   "cell_type": "code",
   "execution_count": 176,
   "metadata": {},
   "outputs": [],
   "source": [
    "mar_scorer = make_scorer(mean_absolute_error)"
   ]
  },
  {
   "cell_type": "markdown",
   "metadata": {},
   "source": [
    "cross_val_score(estimator=, X,y, cv=5, scoring=mae_scorer)"
   ]
  },
  {
   "cell_type": "markdown",
   "metadata": {},
   "source": [
    "### Leave-one-out-cross-validation (LOOCV)\n",
    "* K fold validation where K = n, every single point is set aside for validation one time\n",
    "![](images/LOOCV.PNG)"
   ]
  },
  {
   "cell_type": "markdown",
   "metadata": {},
   "source": [
    "* Use when data is limited and want to use as much data possible for training the model.\n",
    "* When we have to predict individual point in real world use it."
   ]
  },
  {
   "cell_type": "markdown",
   "metadata": {},
   "source": [
    "* Not good when computational resource are limited and have lots of data and lot of parameters to set"
   ]
  },
  {
   "cell_type": "markdown",
   "metadata": {},
   "source": [
    "* just pass `cv=n` in cross_val_score"
   ]
  },
  {
   "cell_type": "markdown",
   "metadata": {},
   "source": [
    "### Hyperparameter tuning\n",
    "* Model parameters are learned or estimated from the data\n",
    "    * The result of fitting a model.\n",
    "    * Used when making future prediction\n",
    "    * Not manually set\n",
    "    * In Linear model coefficient and intercept are parameters\n",
    "    * Model parameters are result of training a model\n",
    "* Hyper parameters are values that set manually before training occurs. Specify how training is supposed to happen. Ex. n_estimators and max_depth, max_features (number of features to consider when making a split), min_samples_split (min number of samples required to make a split, if leaf in decision tree has a 4 observations in it min_samples_split must be 4 or greater to split this leaf in to more leaves.)\n",
    "* Hyper parameter tuning\n",
    "    - Select hyperparameters\n",
    "    - Run a single model type at different value sets\n",
    "    - Create range of possible values to select from\n",
    "\n",
    "### Grid search\n",
    "* Test every possible combination\n",
    "* Additional hyperparameters increases training time exponentially\n",
    "* Other approach Random Search and Bayseian optimization\n"
   ]
  },
  {
   "cell_type": "code",
   "execution_count": 177,
   "metadata": {},
   "outputs": [],
   "source": [
    "from sklearn.model_selection import RandomizedSearchCV"
   ]
  },
  {
   "cell_type": "code",
   "execution_count": 179,
   "metadata": {},
   "outputs": [],
   "source": [
    "param_dist = {\"max_depth\":[4,6,8,None], \"max_features\": range(2,11), \"min_samples_split\":range(2,11)}"
   ]
  },
  {
   "cell_type": "markdown",
   "metadata": {},
   "source": [
    "* estimator : the model to use\n",
    "* param_distributions: dict containing hyperparameter and possible values\n",
    "* n_iter: number of iterations\n",
    "* scoring: scoring method to use"
   ]
  },
  {
   "cell_type": "code",
   "execution_count": 191,
   "metadata": {},
   "outputs": [],
   "source": [
    "rfr = RandomForestRegressor(n_estimators=20, random_state=1111)"
   ]
  },
  {
   "cell_type": "code",
   "execution_count": 192,
   "metadata": {},
   "outputs": [],
   "source": [
    "scorer = make_scorer(mean_absolute_error)"
   ]
  },
  {
   "cell_type": "code",
   "execution_count": 193,
   "metadata": {},
   "outputs": [],
   "source": [
    "random_search = RandomizedSearchCV(estimator=rfr, param_distributions=param_dist, n_iter=40, cv=5)"
   ]
  },
  {
   "cell_type": "markdown",
   "metadata": {},
   "source": [
    "* We can not do HP tuning without model validation. It allows us to compare multiple model and parameter sets."
   ]
  },
  {
   "cell_type": "code",
   "execution_count": 189,
   "metadata": {},
   "outputs": [],
   "source": []
  },
  {
   "cell_type": "markdown",
   "metadata": {},
   "source": [
    "```\n",
    "```"
   ]
  },
  {
   "cell_type": "code",
   "execution_count": 190,
   "metadata": {},
   "outputs": [],
   "source": [
    "X = candy.drop(['winpercent', 'competitorname'], 1)\n",
    "y = candy['winpercent']\n",
    "X_train, X_test, y_train, y_test = train_test_split(X, y, test_size = 0.2)"
   ]
  },
  {
   "cell_type": "code",
   "execution_count": 194,
   "metadata": {},
   "outputs": [
    {
     "data": {
      "text/plain": [
       "RandomizedSearchCV(cv=5, error_score='raise-deprecating',\n",
       "          estimator=RandomForestRegressor(bootstrap=True, criterion='mse', max_depth=None,\n",
       "           max_features='auto', max_leaf_nodes=None,\n",
       "           min_impurity_decrease=0.0, min_impurity_split=None,\n",
       "           min_samples_leaf=1, min_samples_split=2,\n",
       "           min_weight_fraction_leaf=0.0, n_estimators=20, n_jobs=None,\n",
       "           oob_score=False, random_state=1111, verbose=0, warm_start=False),\n",
       "          fit_params=None, iid='warn', n_iter=40, n_jobs=None,\n",
       "          param_distributions={'max_depth': [4, 6, 8, None], 'max_features': range(2, 11), 'min_samples_split': range(2, 11)},\n",
       "          pre_dispatch='2*n_jobs', random_state=None, refit=True,\n",
       "          return_train_score='warn', scoring=None, verbose=0)"
      ]
     },
     "execution_count": 194,
     "metadata": {},
     "output_type": "execute_result"
    }
   ],
   "source": [
    "random_search.fit(X_train, y_train)"
   ]
  },
  {
   "cell_type": "code",
   "execution_count": 195,
   "metadata": {},
   "outputs": [
    {
     "data": {
      "text/plain": [
       "0.3419253847663344"
      ]
     },
     "execution_count": 195,
     "metadata": {},
     "output_type": "execute_result"
    }
   ],
   "source": [
    "random_search.best_score_"
   ]
  },
  {
   "cell_type": "code",
   "execution_count": 196,
   "metadata": {},
   "outputs": [
    {
     "data": {
      "text/plain": [
       "{'min_samples_split': 4, 'max_features': 6, 'max_depth': 8}"
      ]
     },
     "execution_count": 196,
     "metadata": {},
     "output_type": "execute_result"
    }
   ],
   "source": [
    "random_search.best_params_"
   ]
  },
  {
   "cell_type": "code",
   "execution_count": 197,
   "metadata": {},
   "outputs": [
    {
     "data": {
      "text/plain": [
       "RandomForestRegressor(bootstrap=True, criterion='mse', max_depth=8,\n",
       "           max_features=6, max_leaf_nodes=None, min_impurity_decrease=0.0,\n",
       "           min_impurity_split=None, min_samples_leaf=1,\n",
       "           min_samples_split=4, min_weight_fraction_leaf=0.0,\n",
       "           n_estimators=20, n_jobs=None, oob_score=False,\n",
       "           random_state=1111, verbose=0, warm_start=False)"
      ]
     },
     "execution_count": 197,
     "metadata": {},
     "output_type": "execute_result"
    }
   ],
   "source": [
    "random_search.best_estimator_"
   ]
  },
  {
   "cell_type": "code",
   "execution_count": 198,
   "metadata": {},
   "outputs": [
    {
     "name": "stderr",
     "output_type": "stream",
     "text": [
      "C:\\Users\\davep\\Anaconda3\\lib\\site-packages\\sklearn\\utils\\deprecation.py:125: FutureWarning: You are accessing a training score ('split0_train_score'), which will not be available by default any more in 0.21. If you need training scores, please set return_train_score=True\n",
      "  warnings.warn(*warn_args, **warn_kwargs)\n",
      "C:\\Users\\davep\\Anaconda3\\lib\\site-packages\\sklearn\\utils\\deprecation.py:125: FutureWarning: You are accessing a training score ('split1_train_score'), which will not be available by default any more in 0.21. If you need training scores, please set return_train_score=True\n",
      "  warnings.warn(*warn_args, **warn_kwargs)\n",
      "C:\\Users\\davep\\Anaconda3\\lib\\site-packages\\sklearn\\utils\\deprecation.py:125: FutureWarning: You are accessing a training score ('split2_train_score'), which will not be available by default any more in 0.21. If you need training scores, please set return_train_score=True\n",
      "  warnings.warn(*warn_args, **warn_kwargs)\n",
      "C:\\Users\\davep\\Anaconda3\\lib\\site-packages\\sklearn\\utils\\deprecation.py:125: FutureWarning: You are accessing a training score ('split3_train_score'), which will not be available by default any more in 0.21. If you need training scores, please set return_train_score=True\n",
      "  warnings.warn(*warn_args, **warn_kwargs)\n",
      "C:\\Users\\davep\\Anaconda3\\lib\\site-packages\\sklearn\\utils\\deprecation.py:125: FutureWarning: You are accessing a training score ('split4_train_score'), which will not be available by default any more in 0.21. If you need training scores, please set return_train_score=True\n",
      "  warnings.warn(*warn_args, **warn_kwargs)\n",
      "C:\\Users\\davep\\Anaconda3\\lib\\site-packages\\sklearn\\utils\\deprecation.py:125: FutureWarning: You are accessing a training score ('mean_train_score'), which will not be available by default any more in 0.21. If you need training scores, please set return_train_score=True\n",
      "  warnings.warn(*warn_args, **warn_kwargs)\n",
      "C:\\Users\\davep\\Anaconda3\\lib\\site-packages\\sklearn\\utils\\deprecation.py:125: FutureWarning: You are accessing a training score ('std_train_score'), which will not be available by default any more in 0.21. If you need training scores, please set return_train_score=True\n",
      "  warnings.warn(*warn_args, **warn_kwargs)\n"
     ]
    },
    {
     "data": {
      "text/plain": [
       "{'mean_fit_time': array([0.01137156, 0.00717859, 0.00817881, 0.00797739, 0.00797749,\n",
       "        0.00738001, 0.00718207, 0.00718055, 0.00718045, 0.00698247,\n",
       "        0.00797696, 0.00737991, 0.00718102, 0.00797849, 0.00738177,\n",
       "        0.00698047, 0.0083725 , 0.00757952, 0.00717444, 0.00758018,\n",
       "        0.0103723 , 0.00757694, 0.00738006, 0.0079783 , 0.00797915,\n",
       "        0.00976791, 0.0073792 , 0.00738597, 0.00738015, 0.00757904,\n",
       "        0.00797882, 0.00738001, 0.00757537, 0.00718369, 0.00718017,\n",
       "        0.00797844, 0.00758185, 0.00718274, 0.0073679 , 0.0097734 ]),\n",
       " 'std_fit_time': array([5.29727907e-03, 3.99692245e-04, 3.99308248e-04, 2.08721815e-06,\n",
       "        3.04579152e-06, 4.88908814e-04, 4.02236335e-04, 3.99427096e-04,\n",
       "        3.99112844e-04, 1.62824355e-06, 2.93322687e-06, 4.88795409e-04,\n",
       "        3.98593785e-04, 5.51978917e-07, 4.87181857e-04, 1.91567511e-06,\n",
       "        4.93153288e-04, 4.89262609e-04, 4.00837790e-04, 4.87374081e-04,\n",
       "        3.00099113e-03, 4.84663185e-04, 4.88675027e-04, 2.28484126e-06,\n",
       "        1.49273642e-06, 3.05498268e-03, 4.89281946e-04, 4.82436964e-04,\n",
       "        4.88305967e-04, 4.88286405e-04, 3.55747365e-06, 4.89395610e-04,\n",
       "        4.86178466e-04, 3.97023008e-04, 3.98781495e-04, 6.91002691e-07,\n",
       "        4.89415555e-04, 3.98095280e-04, 4.98729826e-04, 3.11530175e-03]),\n",
       " 'mean_score_time': array([0.00218754, 0.00099807, 0.00099635, 0.00099907, 0.0009974 ,\n",
       "        0.00119905, 0.0009973 , 0.00119653, 0.00099764, 0.0009963 ,\n",
       "        0.00099735, 0.00119705, 0.00119667, 0.0009973 , 0.0009963 ,\n",
       "        0.0011972 , 0.0012023 , 0.00099697, 0.00100279, 0.0012012 ,\n",
       "        0.00199103, 0.00119448, 0.00099802, 0.00099754, 0.00099678,\n",
       "        0.00119781, 0.00099673, 0.0009975 , 0.0011961 , 0.00099778,\n",
       "        0.00099559, 0.00119805, 0.00099998, 0.00099454, 0.00119839,\n",
       "        0.00099711, 0.00099664, 0.00099516, 0.00119824, 0.00120211]),\n",
       " 'std_score_time': array([1.47198479e-03, 1.38529196e-06, 1.97182399e-06, 3.07772437e-06,\n",
       "        1.21195460e-06, 3.97920634e-04, 5.20604861e-06, 3.98929918e-04,\n",
       "        4.90933902e-07, 1.96257740e-06, 6.10649513e-07, 3.98783890e-04,\n",
       "        3.96825287e-04, 4.52367448e-07, 3.11006047e-06, 3.98710594e-04,\n",
       "        3.96737926e-04, 1.85047225e-06, 1.16985561e-05, 4.08868230e-04,\n",
       "        1.08726055e-03, 3.83434096e-04, 3.25509036e-06, 1.34024327e-06,\n",
       "        1.78033397e-06, 4.01854639e-04, 3.26763948e-06, 6.46813391e-07,\n",
       "        3.99020269e-04, 1.70598448e-06, 1.96836161e-06, 3.98166765e-04,\n",
       "        3.88965864e-06, 3.85501536e-06, 3.98470979e-04, 5.51978917e-07,\n",
       "        3.65457654e-06, 2.55453019e-06, 3.98072999e-04, 4.10556987e-04]),\n",
       " 'param_min_samples_split': masked_array(data=[2, 10, 4, 2, 5, 9, 10, 5, 6, 6, 5, 4, 10, 4, 5, 9, 2,\n",
       "                    4, 10, 4, 3, 3, 2, 2, 7, 9, 9, 5, 5, 7, 3, 10, 6, 5, 7,\n",
       "                    2, 9, 9, 10, 10],\n",
       "              mask=[False, False, False, False, False, False, False, False,\n",
       "                    False, False, False, False, False, False, False, False,\n",
       "                    False, False, False, False, False, False, False, False,\n",
       "                    False, False, False, False, False, False, False, False,\n",
       "                    False, False, False, False, False, False, False, False],\n",
       "        fill_value='?',\n",
       "             dtype=object),\n",
       " 'param_max_features': masked_array(data=[8, 10, 8, 8, 7, 4, 3, 5, 2, 10, 9, 8, 2, 6, 4, 5, 9, 9,\n",
       "                    4, 6, 8, 10, 5, 2, 9, 7, 6, 5, 7, 8, 7, 10, 6, 8, 3, 3,\n",
       "                    8, 4, 9, 10],\n",
       "              mask=[False, False, False, False, False, False, False, False,\n",
       "                    False, False, False, False, False, False, False, False,\n",
       "                    False, False, False, False, False, False, False, False,\n",
       "                    False, False, False, False, False, False, False, False,\n",
       "                    False, False, False, False, False, False, False, False],\n",
       "        fill_value='?',\n",
       "             dtype=object),\n",
       " 'param_max_depth': masked_array(data=[8, 6, 6, 4, None, None, 6, 6, 4, None, 6, 4, 4, 8,\n",
       "                    None, 4, 8, 6, None, 4, 6, 4, 4, None, None, 4, 4, 4,\n",
       "                    4, 6, 6, 4, 4, 4, 6, 8, 6, 6, 8, None],\n",
       "              mask=[False, False, False, False, False, False, False, False,\n",
       "                    False, False, False, False, False, False, False, False,\n",
       "                    False, False, False, False, False, False, False, False,\n",
       "                    False, False, False, False, False, False, False, False,\n",
       "                    False, False, False, False, False, False, False, False],\n",
       "        fill_value='?',\n",
       "             dtype=object),\n",
       " 'params': [{'min_samples_split': 2, 'max_features': 8, 'max_depth': 8},\n",
       "  {'min_samples_split': 10, 'max_features': 10, 'max_depth': 6},\n",
       "  {'min_samples_split': 4, 'max_features': 8, 'max_depth': 6},\n",
       "  {'min_samples_split': 2, 'max_features': 8, 'max_depth': 4},\n",
       "  {'min_samples_split': 5, 'max_features': 7, 'max_depth': None},\n",
       "  {'min_samples_split': 9, 'max_features': 4, 'max_depth': None},\n",
       "  {'min_samples_split': 10, 'max_features': 3, 'max_depth': 6},\n",
       "  {'min_samples_split': 5, 'max_features': 5, 'max_depth': 6},\n",
       "  {'min_samples_split': 6, 'max_features': 2, 'max_depth': 4},\n",
       "  {'min_samples_split': 6, 'max_features': 10, 'max_depth': None},\n",
       "  {'min_samples_split': 5, 'max_features': 9, 'max_depth': 6},\n",
       "  {'min_samples_split': 4, 'max_features': 8, 'max_depth': 4},\n",
       "  {'min_samples_split': 10, 'max_features': 2, 'max_depth': 4},\n",
       "  {'min_samples_split': 4, 'max_features': 6, 'max_depth': 8},\n",
       "  {'min_samples_split': 5, 'max_features': 4, 'max_depth': None},\n",
       "  {'min_samples_split': 9, 'max_features': 5, 'max_depth': 4},\n",
       "  {'min_samples_split': 2, 'max_features': 9, 'max_depth': 8},\n",
       "  {'min_samples_split': 4, 'max_features': 9, 'max_depth': 6},\n",
       "  {'min_samples_split': 10, 'max_features': 4, 'max_depth': None},\n",
       "  {'min_samples_split': 4, 'max_features': 6, 'max_depth': 4},\n",
       "  {'min_samples_split': 3, 'max_features': 8, 'max_depth': 6},\n",
       "  {'min_samples_split': 3, 'max_features': 10, 'max_depth': 4},\n",
       "  {'min_samples_split': 2, 'max_features': 5, 'max_depth': 4},\n",
       "  {'min_samples_split': 2, 'max_features': 2, 'max_depth': None},\n",
       "  {'min_samples_split': 7, 'max_features': 9, 'max_depth': None},\n",
       "  {'min_samples_split': 9, 'max_features': 7, 'max_depth': 4},\n",
       "  {'min_samples_split': 9, 'max_features': 6, 'max_depth': 4},\n",
       "  {'min_samples_split': 5, 'max_features': 5, 'max_depth': 4},\n",
       "  {'min_samples_split': 5, 'max_features': 7, 'max_depth': 4},\n",
       "  {'min_samples_split': 7, 'max_features': 8, 'max_depth': 6},\n",
       "  {'min_samples_split': 3, 'max_features': 7, 'max_depth': 6},\n",
       "  {'min_samples_split': 10, 'max_features': 10, 'max_depth': 4},\n",
       "  {'min_samples_split': 6, 'max_features': 6, 'max_depth': 4},\n",
       "  {'min_samples_split': 5, 'max_features': 8, 'max_depth': 4},\n",
       "  {'min_samples_split': 7, 'max_features': 3, 'max_depth': 6},\n",
       "  {'min_samples_split': 2, 'max_features': 3, 'max_depth': 8},\n",
       "  {'min_samples_split': 9, 'max_features': 8, 'max_depth': 6},\n",
       "  {'min_samples_split': 9, 'max_features': 4, 'max_depth': 6},\n",
       "  {'min_samples_split': 10, 'max_features': 9, 'max_depth': 8},\n",
       "  {'min_samples_split': 10, 'max_features': 10, 'max_depth': None}],\n",
       " 'split0_test_score': array([ 0.12932644,  0.21521795, -0.00206507,  0.15375802,  0.22479336,\n",
       "         0.35971896,  0.36036942,  0.12830442,  0.32471512,  0.21250092,\n",
       "         0.10902587,  0.0731976 ,  0.27511619,  0.22391573,  0.35613711,\n",
       "         0.30275607,  0.03248749,  0.11844203,  0.38333181,  0.19482667,\n",
       "         0.11451766,  0.21884771,  0.25444122,  0.23950801,  0.1840236 ,\n",
       "         0.23640329,  0.31063076,  0.25159716,  0.2130013 ,  0.10685053,\n",
       "         0.18460038,  0.18648406,  0.27611551,  0.10392587,  0.36883839,\n",
       "         0.20162352,  0.18325505,  0.37557118,  0.28425771,  0.20992793]),\n",
       " 'split1_test_score': array([0.21120899, 0.18414244, 0.19211694, 0.31217697, 0.15228447,\n",
       "        0.20129248, 0.11870425, 0.15565097, 0.07211026, 0.26802714,\n",
       "        0.35844915, 0.18766627, 0.08732972, 0.35144175, 0.24135113,\n",
       "        0.22926556, 0.33243625, 0.27394264, 0.19830047, 0.18841795,\n",
       "        0.15894646, 0.30944923, 0.20985857, 0.21615143, 0.29655641,\n",
       "        0.22390427, 0.27570703, 0.22192565, 0.24714206, 0.23675481,\n",
       "        0.24553493, 0.23106863, 0.33075759, 0.20874542, 0.12515044,\n",
       "        0.12814905, 0.21384377, 0.20721565, 0.34246557, 0.18414244]),\n",
       " 'split2_test_score': array([0.39963861, 0.47096654, 0.45672785, 0.49700857, 0.36743845,\n",
       "        0.48643965, 0.47183665, 0.51045384, 0.45172882, 0.49408369,\n",
       "        0.48244723, 0.51050012, 0.43333504, 0.5041797 , 0.44333509,\n",
       "        0.44474295, 0.47448593, 0.46226738, 0.45416144, 0.48730739,\n",
       "        0.44745795, 0.45604926, 0.43146377, 0.46212926, 0.4587484 ,\n",
       "        0.4628157 , 0.48296841, 0.43108659, 0.45994068, 0.48986399,\n",
       "        0.36442988, 0.48081322, 0.50814881, 0.47368169, 0.47273677,\n",
       "        0.40109494, 0.49479321, 0.4826991 , 0.4926444 , 0.4734295 ]),\n",
       " 'split3_test_score': array([0.3399356 , 0.12897599, 0.26796181, 0.36685356, 0.28014329,\n",
       "        0.15818779, 0.06624715, 0.28578345, 0.14399796, 0.24879605,\n",
       "        0.28577958, 0.30898706, 0.16783623, 0.26018708, 0.16217784,\n",
       "        0.23934706, 0.33076926, 0.30884948, 0.11998087, 0.23438976,\n",
       "        0.30305474, 0.2638784 , 0.2792606 , 0.26063071, 0.22724304,\n",
       "        0.13040069, 0.14312821, 0.24381989, 0.22506777, 0.24447525,\n",
       "        0.24289889, 0.10762235, 0.18069023, 0.32006873, 0.18104388,\n",
       "        0.21109798, 0.21832874, 0.15534058, 0.15725241, 0.12284215]),\n",
       " 'split4_test_score': array([0.19270378, 0.16173045, 0.27717537, 0.18624797, 0.19218717,\n",
       "        0.40570054, 0.43886373, 0.36276663, 0.49379374, 0.16527274,\n",
       "        0.18567355, 0.19354808, 0.51258248, 0.3657672 , 0.27028332,\n",
       "        0.30884766, 0.12155942, 0.13837377, 0.4178443 , 0.23123982,\n",
       "        0.2639093 , 0.18315012, 0.2485125 , 0.52478353, 0.08931228,\n",
       "        0.29533194, 0.29736212, 0.35245871, 0.26873768, 0.14669203,\n",
       "        0.19979728, 0.1771512 , 0.18464048, 0.20475201, 0.48461085,\n",
       "        0.38214507, 0.21887078, 0.42664806, 0.14711562, 0.18315751]),\n",
       " 'mean_test_score': array([0.25421689, 0.23476119, 0.23737793, 0.30399308, 0.24358124,\n",
       "        0.32345388, 0.29234097, 0.28754236, 0.2966331 , 0.27981557,\n",
       "        0.28570297, 0.25488313, 0.2939173 , 0.34192538, 0.29696355,\n",
       "        0.30590052, 0.25929424, 0.26145634, 0.31607117, 0.26824872,\n",
       "        0.25681531, 0.28812085, 0.28531971, 0.33910922, 0.25390907,\n",
       "        0.27144485, 0.30436266, 0.30023755, 0.28383305, 0.24637861,\n",
       "        0.24822004, 0.23939969, 0.29940597, 0.26222958, 0.32628926,\n",
       "        0.26388683, 0.26720709, 0.33062729, 0.28864606, 0.23710285]),\n",
       " 'std_test_score': array([0.1003697 , 0.12349876, 0.1503766 , 0.12544597, 0.07554872,\n",
       "        0.12380292, 0.16634405, 0.14182557, 0.1654655 , 0.1144812 ,\n",
       "        0.13190282, 0.14985821, 0.15824454, 0.09844757, 0.09683913,\n",
       "        0.07764313, 0.16071593, 0.12597955, 0.13055308, 0.11306007,\n",
       "        0.11849864, 0.09542751, 0.07766563, 0.1266457 , 0.12383031,\n",
       "        0.11031933, 0.10827786, 0.08002863, 0.09164651, 0.13466053,\n",
       "        0.06378751, 0.1290361 , 0.12040522, 0.12737705, 0.14813066,\n",
       "        0.10804528, 0.11663832, 0.12629084, 0.12766412, 0.12361366]),\n",
       " 'rank_test_score': array([32, 40, 38,  9, 36,  5, 15, 18, 13, 22, 19, 31, 14,  1, 12,  7, 29,\n",
       "        28,  6, 24, 30, 17, 20,  2, 33, 23,  8, 10, 21, 35, 34, 37, 11, 27,\n",
       "         4, 26, 25,  3, 16, 39]),\n",
       " 'split0_train_score': array([0.88864879, 0.68565519, 0.81750226, 0.78249617, 0.77810118,\n",
       "        0.62533587, 0.59521427, 0.78293396, 0.60261911, 0.78149833,\n",
       "        0.79386725, 0.76777694, 0.48609969, 0.81365327, 0.74859452,\n",
       "        0.63031768, 0.88716804, 0.82653274, 0.61394923, 0.73403843,\n",
       "        0.84774533, 0.76950559, 0.75136863, 0.89777343, 0.74225269,\n",
       "        0.64971927, 0.63661856, 0.71662103, 0.70591347, 0.7381233 ,\n",
       "        0.82450874, 0.67542869, 0.69862401, 0.74441217, 0.67807066,\n",
       "        0.87976294, 0.68262429, 0.61554165, 0.6584695 , 0.68709324]),\n",
       " 'split1_train_score': array([0.89437162, 0.69836298, 0.83485652, 0.80381098, 0.79098404,\n",
       "        0.67334687, 0.64857847, 0.78883085, 0.67340814, 0.79258696,\n",
       "        0.80784921, 0.77853469, 0.58678456, 0.83760135, 0.80645819,\n",
       "        0.65707918, 0.89817598, 0.83466913, 0.66922416, 0.76176247,\n",
       "        0.85449438, 0.79641721, 0.77935647, 0.89856986, 0.77779229,\n",
       "        0.68835711, 0.69638759, 0.73170124, 0.74572935, 0.77241019,\n",
       "        0.84537491, 0.69384819, 0.73931839, 0.76893289, 0.73564653,\n",
       "        0.90816519, 0.71803024, 0.66828093, 0.70448042, 0.69836298]),\n",
       " 'split2_train_score': array([0.84924103, 0.67715546, 0.79217577, 0.74105763, 0.77533015,\n",
       "        0.62240509, 0.54647227, 0.73539564, 0.56273656, 0.77383415,\n",
       "        0.76735823, 0.71299707, 0.5175827 , 0.81535484, 0.7380523 ,\n",
       "        0.59671134, 0.85377797, 0.79968347, 0.60023057, 0.70864081,\n",
       "        0.81257781, 0.73547677, 0.68461108, 0.86444846, 0.74229484,\n",
       "        0.64533108, 0.65309275, 0.64097997, 0.69947679, 0.72961883,\n",
       "        0.80445269, 0.656363  , 0.70492886, 0.70591928, 0.64111697,\n",
       "        0.83176151, 0.6922867 , 0.61688235, 0.67373637, 0.68044077]),\n",
       " 'split3_train_score': array([0.86389759, 0.68380667, 0.81867191, 0.7772198 , 0.7863797 ,\n",
       "        0.67283554, 0.5997686 , 0.74493193, 0.6513991 , 0.77285874,\n",
       "        0.78326093, 0.74810658, 0.57516521, 0.81166497, 0.77689691,\n",
       "        0.63418034, 0.87441048, 0.82267975, 0.64157236, 0.73461687,\n",
       "        0.85594649, 0.78013315, 0.73852142, 0.88214954, 0.72967027,\n",
       "        0.6644959 , 0.64475411, 0.70104824, 0.72950696, 0.74881303,\n",
       "        0.83120835, 0.66985104, 0.71126984, 0.73553959, 0.70358467,\n",
       "        0.8806221 , 0.68829571, 0.67210429, 0.67744442, 0.68465581]),\n",
       " 'split4_train_score': array([0.87509215, 0.70323053, 0.82522848, 0.76077723, 0.81160035,\n",
       "        0.67657642, 0.5742504 , 0.78855455, 0.64674503, 0.79696982,\n",
       "        0.81580525, 0.7393951 , 0.54142503, 0.83358854, 0.76532735,\n",
       "        0.67111503, 0.88323056, 0.83161237, 0.637177  , 0.73991468,\n",
       "        0.85598171, 0.77136808, 0.74992504, 0.8854604 , 0.774763  ,\n",
       "        0.69316871, 0.69663663, 0.73535385, 0.73738232, 0.74892063,\n",
       "        0.82760708, 0.69498286, 0.72418169, 0.74227027, 0.67404362,\n",
       "        0.86880812, 0.70770015, 0.67049593, 0.7156494 , 0.70438031]),\n",
       " 'mean_train_score': array([0.87425023, 0.68964216, 0.81768699, 0.77307236, 0.78847909,\n",
       "        0.65409996, 0.5928568 , 0.76812939, 0.62738159, 0.7835496 ,\n",
       "        0.79362817, 0.74936208, 0.54141144, 0.82237259, 0.76706585,\n",
       "        0.63788071, 0.87935261, 0.82303549, 0.63243066, 0.73579465,\n",
       "        0.84534914, 0.77058016, 0.74075653, 0.88568034, 0.75335462,\n",
       "        0.66821441, 0.66549793, 0.70514087, 0.72360178, 0.7475772 ,\n",
       "        0.82663035, 0.67809475, 0.71566456, 0.73941484, 0.68649249,\n",
       "        0.87382397, 0.69778742, 0.64866103, 0.68595602, 0.69098662]),\n",
       " 'std_train_score': array([0.01640448, 0.00965985, 0.01416681, 0.02110443, 0.01285201,\n",
       "        0.02473295, 0.03363319, 0.02312805, 0.03965447, 0.00974339,\n",
       "        0.01727256, 0.02286254, 0.03694654, 0.0109329 , 0.02380926,\n",
       "        0.02545156, 0.01489245, 0.01238207, 0.02382549, 0.01692988,\n",
       "        0.01666549, 0.01996415, 0.03112536, 0.01245544, 0.01929787,\n",
       "        0.01953453, 0.02585344, 0.03430289, 0.01794043, 0.01436585,\n",
       "        0.01318803, 0.0147018 , 0.01453956, 0.020206  , 0.03160095,\n",
       "        0.02471928, 0.01310195, 0.02652571, 0.02098631, 0.00894711])}"
      ]
     },
     "execution_count": 198,
     "metadata": {},
     "output_type": "execute_result"
    }
   ],
   "source": [
    "random_search.cv_results_"
   ]
  },
  {
   "cell_type": "code",
   "execution_count": 199,
   "metadata": {},
   "outputs": [
    {
     "data": {
      "text/plain": [
       "array([0.25421689, 0.23476119, 0.23737793, 0.30399308, 0.24358124,\n",
       "       0.32345388, 0.29234097, 0.28754236, 0.2966331 , 0.27981557,\n",
       "       0.28570297, 0.25488313, 0.2939173 , 0.34192538, 0.29696355,\n",
       "       0.30590052, 0.25929424, 0.26145634, 0.31607117, 0.26824872,\n",
       "       0.25681531, 0.28812085, 0.28531971, 0.33910922, 0.25390907,\n",
       "       0.27144485, 0.30436266, 0.30023755, 0.28383305, 0.24637861,\n",
       "       0.24822004, 0.23939969, 0.29940597, 0.26222958, 0.32628926,\n",
       "       0.26388683, 0.26720709, 0.33062729, 0.28864606, 0.23710285])"
      ]
     },
     "execution_count": 199,
     "metadata": {},
     "output_type": "execute_result"
    }
   ],
   "source": [
    "random_search.cv_results_['mean_test_score']"
   ]
  },
  {
   "cell_type": "code",
   "execution_count": 200,
   "metadata": {},
   "outputs": [
    {
     "data": {
      "text/plain": [
       "[{'min_samples_split': 2, 'max_features': 8, 'max_depth': 8},\n",
       " {'min_samples_split': 10, 'max_features': 10, 'max_depth': 6},\n",
       " {'min_samples_split': 4, 'max_features': 8, 'max_depth': 6},\n",
       " {'min_samples_split': 2, 'max_features': 8, 'max_depth': 4},\n",
       " {'min_samples_split': 5, 'max_features': 7, 'max_depth': None},\n",
       " {'min_samples_split': 9, 'max_features': 4, 'max_depth': None},\n",
       " {'min_samples_split': 10, 'max_features': 3, 'max_depth': 6},\n",
       " {'min_samples_split': 5, 'max_features': 5, 'max_depth': 6},\n",
       " {'min_samples_split': 6, 'max_features': 2, 'max_depth': 4},\n",
       " {'min_samples_split': 6, 'max_features': 10, 'max_depth': None},\n",
       " {'min_samples_split': 5, 'max_features': 9, 'max_depth': 6},\n",
       " {'min_samples_split': 4, 'max_features': 8, 'max_depth': 4},\n",
       " {'min_samples_split': 10, 'max_features': 2, 'max_depth': 4},\n",
       " {'min_samples_split': 4, 'max_features': 6, 'max_depth': 8},\n",
       " {'min_samples_split': 5, 'max_features': 4, 'max_depth': None},\n",
       " {'min_samples_split': 9, 'max_features': 5, 'max_depth': 4},\n",
       " {'min_samples_split': 2, 'max_features': 9, 'max_depth': 8},\n",
       " {'min_samples_split': 4, 'max_features': 9, 'max_depth': 6},\n",
       " {'min_samples_split': 10, 'max_features': 4, 'max_depth': None},\n",
       " {'min_samples_split': 4, 'max_features': 6, 'max_depth': 4},\n",
       " {'min_samples_split': 3, 'max_features': 8, 'max_depth': 6},\n",
       " {'min_samples_split': 3, 'max_features': 10, 'max_depth': 4},\n",
       " {'min_samples_split': 2, 'max_features': 5, 'max_depth': 4},\n",
       " {'min_samples_split': 2, 'max_features': 2, 'max_depth': None},\n",
       " {'min_samples_split': 7, 'max_features': 9, 'max_depth': None},\n",
       " {'min_samples_split': 9, 'max_features': 7, 'max_depth': 4},\n",
       " {'min_samples_split': 9, 'max_features': 6, 'max_depth': 4},\n",
       " {'min_samples_split': 5, 'max_features': 5, 'max_depth': 4},\n",
       " {'min_samples_split': 5, 'max_features': 7, 'max_depth': 4},\n",
       " {'min_samples_split': 7, 'max_features': 8, 'max_depth': 6},\n",
       " {'min_samples_split': 3, 'max_features': 7, 'max_depth': 6},\n",
       " {'min_samples_split': 10, 'max_features': 10, 'max_depth': 4},\n",
       " {'min_samples_split': 6, 'max_features': 6, 'max_depth': 4},\n",
       " {'min_samples_split': 5, 'max_features': 8, 'max_depth': 4},\n",
       " {'min_samples_split': 7, 'max_features': 3, 'max_depth': 6},\n",
       " {'min_samples_split': 2, 'max_features': 3, 'max_depth': 8},\n",
       " {'min_samples_split': 9, 'max_features': 8, 'max_depth': 6},\n",
       " {'min_samples_split': 9, 'max_features': 4, 'max_depth': 6},\n",
       " {'min_samples_split': 10, 'max_features': 9, 'max_depth': 8},\n",
       " {'min_samples_split': 10, 'max_features': 10, 'max_depth': None}]"
      ]
     },
     "execution_count": 200,
     "metadata": {},
     "output_type": "execute_result"
    }
   ],
   "source": [
    "random_search.cv_results_['params']"
   ]
  },
  {
   "cell_type": "code",
   "execution_count": 202,
   "metadata": {},
   "outputs": [],
   "source": [
    "max_depth = [item['max_depth'] for item in random_search.cv_results_['params']]"
   ]
  },
  {
   "cell_type": "code",
   "execution_count": 203,
   "metadata": {},
   "outputs": [],
   "source": [
    "scores = list(random_search.cv_results_['mean_test_score'])"
   ]
  },
  {
   "cell_type": "code",
   "execution_count": 204,
   "metadata": {},
   "outputs": [],
   "source": [
    "d = pd.DataFrame([max_depth, scores]).T"
   ]
  },
  {
   "cell_type": "code",
   "execution_count": 205,
   "metadata": {},
   "outputs": [],
   "source": [
    "d.columns=['Max Depth', 'Score']"
   ]
  },
  {
   "cell_type": "code",
   "execution_count": 206,
   "metadata": {},
   "outputs": [
    {
     "data": {
      "text/html": [
       "<div>\n",
       "<style scoped>\n",
       "    .dataframe tbody tr th:only-of-type {\n",
       "        vertical-align: middle;\n",
       "    }\n",
       "\n",
       "    .dataframe tbody tr th {\n",
       "        vertical-align: top;\n",
       "    }\n",
       "\n",
       "    .dataframe thead th {\n",
       "        text-align: right;\n",
       "    }\n",
       "</style>\n",
       "<table border=\"1\" class=\"dataframe\">\n",
       "  <thead>\n",
       "    <tr style=\"text-align: right;\">\n",
       "      <th></th>\n",
       "      <th>Score</th>\n",
       "    </tr>\n",
       "    <tr>\n",
       "      <th>Max Depth</th>\n",
       "      <th></th>\n",
       "    </tr>\n",
       "  </thead>\n",
       "  <tbody>\n",
       "    <tr>\n",
       "      <th>4.0</th>\n",
       "      <td>0.283862</td>\n",
       "    </tr>\n",
       "    <tr>\n",
       "      <th>6.0</th>\n",
       "      <td>0.272893</td>\n",
       "    </tr>\n",
       "    <tr>\n",
       "      <th>8.0</th>\n",
       "      <td>0.281594</td>\n",
       "    </tr>\n",
       "  </tbody>\n",
       "</table>\n",
       "</div>"
      ],
      "text/plain": [
       "              Score\n",
       "Max Depth          \n",
       "4.0        0.283862\n",
       "6.0        0.272893\n",
       "8.0        0.281594"
      ]
     },
     "execution_count": 206,
     "metadata": {},
     "output_type": "execute_result"
    }
   ],
   "source": [
    "d.groupby(['Max Depth']).mean()"
   ]
  },
  {
   "cell_type": "markdown",
   "metadata": {},
   "source": [
    "* Choose final model. from various algo. and test them on test set. Choose the best model"
   ]
  },
  {
   "cell_type": "code",
   "execution_count": 210,
   "metadata": {},
   "outputs": [],
   "source": [
    "credit_data = pd.read_csv(\"data/credit-card-full.csv\" ,index_col='ID')"
   ]
  },
  {
   "cell_type": "code",
   "execution_count": 211,
   "metadata": {},
   "outputs": [
    {
     "data": {
      "text/html": [
       "<div>\n",
       "<style scoped>\n",
       "    .dataframe tbody tr th:only-of-type {\n",
       "        vertical-align: middle;\n",
       "    }\n",
       "\n",
       "    .dataframe tbody tr th {\n",
       "        vertical-align: top;\n",
       "    }\n",
       "\n",
       "    .dataframe thead th {\n",
       "        text-align: right;\n",
       "    }\n",
       "</style>\n",
       "<table border=\"1\" class=\"dataframe\">\n",
       "  <thead>\n",
       "    <tr style=\"text-align: right;\">\n",
       "      <th></th>\n",
       "      <th>LIMIT_BAL</th>\n",
       "      <th>SEX</th>\n",
       "      <th>EDUCATION</th>\n",
       "      <th>MARRIAGE</th>\n",
       "      <th>AGE</th>\n",
       "      <th>PAY_0</th>\n",
       "      <th>PAY_2</th>\n",
       "      <th>PAY_3</th>\n",
       "      <th>PAY_4</th>\n",
       "      <th>PAY_5</th>\n",
       "      <th>...</th>\n",
       "      <th>BILL_AMT4</th>\n",
       "      <th>BILL_AMT5</th>\n",
       "      <th>BILL_AMT6</th>\n",
       "      <th>PAY_AMT1</th>\n",
       "      <th>PAY_AMT2</th>\n",
       "      <th>PAY_AMT3</th>\n",
       "      <th>PAY_AMT4</th>\n",
       "      <th>PAY_AMT5</th>\n",
       "      <th>PAY_AMT6</th>\n",
       "      <th>default payment next month</th>\n",
       "    </tr>\n",
       "    <tr>\n",
       "      <th>ID</th>\n",
       "      <th></th>\n",
       "      <th></th>\n",
       "      <th></th>\n",
       "      <th></th>\n",
       "      <th></th>\n",
       "      <th></th>\n",
       "      <th></th>\n",
       "      <th></th>\n",
       "      <th></th>\n",
       "      <th></th>\n",
       "      <th></th>\n",
       "      <th></th>\n",
       "      <th></th>\n",
       "      <th></th>\n",
       "      <th></th>\n",
       "      <th></th>\n",
       "      <th></th>\n",
       "      <th></th>\n",
       "      <th></th>\n",
       "      <th></th>\n",
       "      <th></th>\n",
       "    </tr>\n",
       "  </thead>\n",
       "  <tbody>\n",
       "    <tr>\n",
       "      <th>1</th>\n",
       "      <td>20000</td>\n",
       "      <td>2</td>\n",
       "      <td>2</td>\n",
       "      <td>1</td>\n",
       "      <td>24</td>\n",
       "      <td>2</td>\n",
       "      <td>2</td>\n",
       "      <td>-1</td>\n",
       "      <td>-1</td>\n",
       "      <td>-2</td>\n",
       "      <td>...</td>\n",
       "      <td>0</td>\n",
       "      <td>0</td>\n",
       "      <td>0</td>\n",
       "      <td>0</td>\n",
       "      <td>689</td>\n",
       "      <td>0</td>\n",
       "      <td>0</td>\n",
       "      <td>0</td>\n",
       "      <td>0</td>\n",
       "      <td>1</td>\n",
       "    </tr>\n",
       "    <tr>\n",
       "      <th>2</th>\n",
       "      <td>120000</td>\n",
       "      <td>2</td>\n",
       "      <td>2</td>\n",
       "      <td>2</td>\n",
       "      <td>26</td>\n",
       "      <td>-1</td>\n",
       "      <td>2</td>\n",
       "      <td>0</td>\n",
       "      <td>0</td>\n",
       "      <td>0</td>\n",
       "      <td>...</td>\n",
       "      <td>3272</td>\n",
       "      <td>3455</td>\n",
       "      <td>3261</td>\n",
       "      <td>0</td>\n",
       "      <td>1000</td>\n",
       "      <td>1000</td>\n",
       "      <td>1000</td>\n",
       "      <td>0</td>\n",
       "      <td>2000</td>\n",
       "      <td>1</td>\n",
       "    </tr>\n",
       "    <tr>\n",
       "      <th>3</th>\n",
       "      <td>90000</td>\n",
       "      <td>2</td>\n",
       "      <td>2</td>\n",
       "      <td>2</td>\n",
       "      <td>34</td>\n",
       "      <td>0</td>\n",
       "      <td>0</td>\n",
       "      <td>0</td>\n",
       "      <td>0</td>\n",
       "      <td>0</td>\n",
       "      <td>...</td>\n",
       "      <td>14331</td>\n",
       "      <td>14948</td>\n",
       "      <td>15549</td>\n",
       "      <td>1518</td>\n",
       "      <td>1500</td>\n",
       "      <td>1000</td>\n",
       "      <td>1000</td>\n",
       "      <td>1000</td>\n",
       "      <td>5000</td>\n",
       "      <td>0</td>\n",
       "    </tr>\n",
       "    <tr>\n",
       "      <th>4</th>\n",
       "      <td>50000</td>\n",
       "      <td>2</td>\n",
       "      <td>2</td>\n",
       "      <td>1</td>\n",
       "      <td>37</td>\n",
       "      <td>0</td>\n",
       "      <td>0</td>\n",
       "      <td>0</td>\n",
       "      <td>0</td>\n",
       "      <td>0</td>\n",
       "      <td>...</td>\n",
       "      <td>28314</td>\n",
       "      <td>28959</td>\n",
       "      <td>29547</td>\n",
       "      <td>2000</td>\n",
       "      <td>2019</td>\n",
       "      <td>1200</td>\n",
       "      <td>1100</td>\n",
       "      <td>1069</td>\n",
       "      <td>1000</td>\n",
       "      <td>0</td>\n",
       "    </tr>\n",
       "    <tr>\n",
       "      <th>5</th>\n",
       "      <td>50000</td>\n",
       "      <td>1</td>\n",
       "      <td>2</td>\n",
       "      <td>1</td>\n",
       "      <td>57</td>\n",
       "      <td>-1</td>\n",
       "      <td>0</td>\n",
       "      <td>-1</td>\n",
       "      <td>0</td>\n",
       "      <td>0</td>\n",
       "      <td>...</td>\n",
       "      <td>20940</td>\n",
       "      <td>19146</td>\n",
       "      <td>19131</td>\n",
       "      <td>2000</td>\n",
       "      <td>36681</td>\n",
       "      <td>10000</td>\n",
       "      <td>9000</td>\n",
       "      <td>689</td>\n",
       "      <td>679</td>\n",
       "      <td>0</td>\n",
       "    </tr>\n",
       "  </tbody>\n",
       "</table>\n",
       "<p>5 rows × 24 columns</p>\n",
       "</div>"
      ],
      "text/plain": [
       "    LIMIT_BAL  SEX  EDUCATION  MARRIAGE  AGE  PAY_0  PAY_2  PAY_3  PAY_4  \\\n",
       "ID                                                                         \n",
       "1       20000    2          2         1   24      2      2     -1     -1   \n",
       "2      120000    2          2         2   26     -1      2      0      0   \n",
       "3       90000    2          2         2   34      0      0      0      0   \n",
       "4       50000    2          2         1   37      0      0      0      0   \n",
       "5       50000    1          2         1   57     -1      0     -1      0   \n",
       "\n",
       "    PAY_5             ...              BILL_AMT4  BILL_AMT5  BILL_AMT6  \\\n",
       "ID                    ...                                                \n",
       "1      -2             ...                      0          0          0   \n",
       "2       0             ...                   3272       3455       3261   \n",
       "3       0             ...                  14331      14948      15549   \n",
       "4       0             ...                  28314      28959      29547   \n",
       "5       0             ...                  20940      19146      19131   \n",
       "\n",
       "    PAY_AMT1  PAY_AMT2  PAY_AMT3  PAY_AMT4  PAY_AMT5  PAY_AMT6  \\\n",
       "ID                                                               \n",
       "1          0       689         0         0         0         0   \n",
       "2          0      1000      1000      1000         0      2000   \n",
       "3       1518      1500      1000      1000      1000      5000   \n",
       "4       2000      2019      1200      1100      1069      1000   \n",
       "5       2000     36681     10000      9000       689       679   \n",
       "\n",
       "    default payment next month  \n",
       "ID                              \n",
       "1                            1  \n",
       "2                            1  \n",
       "3                            0  \n",
       "4                            0  \n",
       "5                            0  \n",
       "\n",
       "[5 rows x 24 columns]"
      ]
     },
     "execution_count": 211,
     "metadata": {},
     "output_type": "execute_result"
    }
   ],
   "source": [
    "credit_data.head()"
   ]
  },
  {
   "cell_type": "code",
   "execution_count": 213,
   "metadata": {},
   "outputs": [],
   "source": [
    "X = credit_data.iloc[:, :-1]\n",
    "y = credit_data.iloc[:, -1]"
   ]
  },
  {
   "cell_type": "code",
   "execution_count": 214,
   "metadata": {},
   "outputs": [],
   "source": [
    "X_train, X_test, y_train, y_test = train_test_split(X, y, test_size = 0.2)"
   ]
  },
  {
   "cell_type": "code",
   "execution_count": 215,
   "metadata": {},
   "outputs": [],
   "source": [
    "from sklearn.linear_model import LogisticRegression"
   ]
  },
  {
   "cell_type": "code",
   "execution_count": 216,
   "metadata": {},
   "outputs": [],
   "source": [
    "log_reg = LogisticRegression()"
   ]
  },
  {
   "cell_type": "code",
   "execution_count": 217,
   "metadata": {},
   "outputs": [
    {
     "name": "stderr",
     "output_type": "stream",
     "text": [
      "C:\\Users\\davep\\Anaconda3\\lib\\site-packages\\sklearn\\linear_model\\logistic.py:433: FutureWarning: Default solver will be changed to 'lbfgs' in 0.22. Specify a solver to silence this warning.\n",
      "  FutureWarning)\n"
     ]
    },
    {
     "data": {
      "text/plain": [
       "LogisticRegression(C=1.0, class_weight=None, dual=False, fit_intercept=True,\n",
       "          intercept_scaling=1, max_iter=100, multi_class='warn',\n",
       "          n_jobs=None, penalty='l2', random_state=None, solver='warn',\n",
       "          tol=0.0001, verbose=0, warm_start=False)"
      ]
     },
     "execution_count": 217,
     "metadata": {},
     "output_type": "execute_result"
    }
   ],
   "source": [
    "log_reg.fit(X_train, y_train)"
   ]
  },
  {
   "cell_type": "code",
   "execution_count": 218,
   "metadata": {},
   "outputs": [
    {
     "data": {
      "text/plain": [
       "array([[-3.75233469e-06, -8.08527476e-04, -9.37264928e-04,\n",
       "        -8.54281650e-04, -1.25343678e-02,  1.35700384e-03,\n",
       "         1.03864046e-03,  9.08305952e-04,  8.35840567e-04,\n",
       "         7.86608963e-04,  7.29455564e-04, -7.53355019e-06,\n",
       "         4.34419197e-06,  1.71185349e-06,  4.07414586e-07,\n",
       "         2.71489861e-06,  2.48720985e-06, -2.61347594e-05,\n",
       "        -1.83490616e-05, -9.47736197e-06, -8.68965502e-06,\n",
       "        -6.38352627e-06, -2.78061809e-06]])"
      ]
     },
     "execution_count": 218,
     "metadata": {},
     "output_type": "execute_result"
    }
   ],
   "source": [
    "log_reg.coef_"
   ]
  },
  {
   "cell_type": "code",
   "execution_count": 224,
   "metadata": {},
   "outputs": [
    {
     "name": "stdout",
     "output_type": "stream",
     "text": [
      "LIMIT_BAL -3.752334685530698e-06\n",
      "SEX -0.0008085274756310776\n",
      "EDUCATION -0.0009372649277172415\n",
      "MARRIAGE -0.0008542816496371087\n",
      "AGE -0.01253436775497054\n",
      "PAY_0 0.0013570038397879858\n",
      "PAY_2 0.001038640462753388\n",
      "PAY_3 0.0009083059519519524\n",
      "PAY_4 0.0008358405666546973\n",
      "PAY_5 0.0007866089631743675\n",
      "PAY_6 0.0007294555635368421\n",
      "BILL_AMT1 -7.533550192183914e-06\n",
      "BILL_AMT2 4.3441919656986195e-06\n",
      "BILL_AMT3 1.711853488820866e-06\n",
      "BILL_AMT4 4.0741458569588026e-07\n",
      "BILL_AMT5 2.7148986115607305e-06\n",
      "BILL_AMT6 2.4872098520800343e-06\n",
      "PAY_AMT1 -2.6134759427482726e-05\n",
      "PAY_AMT2 -1.8349061594175462e-05\n",
      "PAY_AMT3 -9.477361966654814e-06\n",
      "PAY_AMT4 -8.689655018032106e-06\n",
      "PAY_AMT5 -6.383526274993127e-06\n",
      "PAY_AMT6 -2.7806180922298658e-06\n"
     ]
    }
   ],
   "source": [
    "for name, val in zip(list(X.columns), log_reg.coef_[0]):\n",
    "    print(name,val)"
   ]
  },
  {
   "cell_type": "markdown",
   "metadata": {},
   "source": [
    "* Tree based algo does not have parameters\n",
    "    - Random forest has no coefficient, but node decisions (what features and what value to split on)"
   ]
  },
  {
   "cell_type": "code",
   "execution_count": 225,
   "metadata": {},
   "outputs": [
    {
     "name": "stderr",
     "output_type": "stream",
     "text": [
      "C:\\Users\\davep\\Anaconda3\\lib\\site-packages\\sklearn\\ensemble\\forest.py:246: FutureWarning: The default value of n_estimators will change from 10 in version 0.20 to 100 in 0.22.\n",
      "  \"10 in version 0.20 to 100 in 0.22.\", FutureWarning)\n"
     ]
    },
    {
     "data": {
      "text/plain": [
       "RandomForestClassifier(bootstrap=True, class_weight=None, criterion='gini',\n",
       "            max_depth=2, max_features='auto', max_leaf_nodes=None,\n",
       "            min_impurity_decrease=0.0, min_impurity_split=None,\n",
       "            min_samples_leaf=1, min_samples_split=2,\n",
       "            min_weight_fraction_leaf=0.0, n_estimators=10, n_jobs=None,\n",
       "            oob_score=False, random_state=None, verbose=0,\n",
       "            warm_start=False)"
      ]
     },
     "execution_count": 225,
     "metadata": {},
     "output_type": "execute_result"
    }
   ],
   "source": [
    "rlf = RandomForestClassifier(max_depth=2)\n",
    "rlf.fit(X_train, y_train)"
   ]
  },
  {
   "cell_type": "code",
   "execution_count": 227,
   "metadata": {},
   "outputs": [],
   "source": [
    "tree = rlf.estimators_[7] # get one of the tree"
   ]
  },
  {
   "cell_type": "code",
   "execution_count": 228,
   "metadata": {},
   "outputs": [
    {
     "data": {
      "text/plain": [
       "DecisionTreeClassifier(class_weight=None, criterion='gini', max_depth=2,\n",
       "            max_features='auto', max_leaf_nodes=None,\n",
       "            min_impurity_decrease=0.0, min_impurity_split=None,\n",
       "            min_samples_leaf=1, min_samples_split=2,\n",
       "            min_weight_fraction_leaf=0.0, presort=False,\n",
       "            random_state=497372534, splitter='best')"
      ]
     },
     "execution_count": 228,
     "metadata": {},
     "output_type": "execute_result"
    }
   ],
   "source": [
    "tree"
   ]
  },
  {
   "cell_type": "code",
   "execution_count": 230,
   "metadata": {},
   "outputs": [],
   "source": [
    "split_column = tree.tree_.feature[1]"
   ]
  },
  {
   "cell_type": "code",
   "execution_count": 233,
   "metadata": {},
   "outputs": [
    {
     "data": {
      "text/plain": [
       "9"
      ]
     },
     "execution_count": 233,
     "metadata": {},
     "output_type": "execute_result"
    }
   ],
   "source": [
    "split_column"
   ]
  },
  {
   "cell_type": "code",
   "execution_count": 231,
   "metadata": {},
   "outputs": [],
   "source": [
    "split_column_name = X_train.columns[split_column]"
   ]
  },
  {
   "cell_type": "code",
   "execution_count": 232,
   "metadata": {},
   "outputs": [
    {
     "data": {
      "text/plain": [
       "'PAY_5'"
      ]
     },
     "execution_count": 232,
     "metadata": {},
     "output_type": "execute_result"
    }
   ],
   "source": [
    "split_column_name"
   ]
  },
  {
   "cell_type": "code",
   "execution_count": 235,
   "metadata": {},
   "outputs": [
    {
     "data": {
      "text/plain": [
       "1.0"
      ]
     },
     "execution_count": 235,
     "metadata": {},
     "output_type": "execute_result"
    }
   ],
   "source": [
    "tree.tree_.threshold[1] # level at which splitted"
   ]
  },
  {
   "cell_type": "markdown",
   "metadata": {},
   "source": [
    "### K_nearest neighbors\n",
    "* Predict label of data by looking K closest neighbor and taking majority vote."
   ]
  },
  {
   "cell_type": "code",
   "execution_count": null,
   "metadata": {},
   "outputs": [],
   "source": [
    "iris = skl"
   ]
  }
 ],
 "metadata": {
  "kernelspec": {
   "display_name": "Python 3",
   "language": "python",
   "name": "python3"
  },
  "language_info": {
   "codemirror_mode": {
    "name": "ipython",
    "version": 3
   },
   "file_extension": ".py",
   "mimetype": "text/x-python",
   "name": "python",
   "nbconvert_exporter": "python",
   "pygments_lexer": "ipython3",
   "version": "3.7.1"
  },
  "toc": {
   "base_numbering": 1,
   "nav_menu": {},
   "number_sections": true,
   "sideBar": true,
   "skip_h1_title": false,
   "title_cell": "Table of Contents",
   "title_sidebar": "Contents",
   "toc_cell": false,
   "toc_position": {},
   "toc_section_display": true,
   "toc_window_display": false
  },
  "varInspector": {
   "cols": {
    "lenName": 16,
    "lenType": 16,
    "lenVar": 40
   },
   "kernels_config": {
    "python": {
     "delete_cmd_postfix": "",
     "delete_cmd_prefix": "del ",
     "library": "var_list.py",
     "varRefreshCmd": "print(var_dic_list())"
    },
    "r": {
     "delete_cmd_postfix": ") ",
     "delete_cmd_prefix": "rm(",
     "library": "var_list.r",
     "varRefreshCmd": "cat(var_dic_list()) "
    }
   },
   "types_to_exclude": [
    "module",
    "function",
    "builtin_function_or_method",
    "instance",
    "_Feature"
   ],
   "window_display": false
  }
 },
 "nbformat": 4,
 "nbformat_minor": 2
}
