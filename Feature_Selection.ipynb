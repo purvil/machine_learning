{
 "cells": [
  {
   "cell_type": "markdown",
   "metadata": {},
   "source": [
    "* Thousands to millions of low level features and we have to select most relevant one to build better, faster ML model.\n",
    "* Not all features are relevant to the problem. Some of them interfere and reduce accuracy, Such noisy features should be deleted in order to increase accuracy. Also we can understand underlying data and model better.\n",
    "* Too many feature can cause overfitting.\n",
    "\n",
    "### Feature selection vs Extraction\n",
    "* Selection\n",
    "    - Subset of the original features are selected\n",
    "    - We also want to know which features are important\n",
    "    - Given Set of features F, we want to find subset F' that maximize the learners ability to classify patterns, meaning F' should maximize scoring function\n",
    "\n",
    "* Extraction\n",
    "    - All original features are used\n",
    "    - Transformed feature are linear combination of the original features.\n",
    "    - We have set of features set F, we map F to some feature set F'' that maximizes the learners ability to classify patterns.\n",
    "    \n",
    "### Filter based method for feature selection\n",
    "* First we need measure to assess goodness of feature subset.\n",
    "* Strategy to search the space of possible feature subsets"
   ]
  }
 ],
 "metadata": {
  "kernelspec": {
   "display_name": "Python 3",
   "language": "python",
   "name": "python3"
  },
  "language_info": {
   "codemirror_mode": {
    "name": "ipython",
    "version": 3
   },
   "file_extension": ".py",
   "mimetype": "text/x-python",
   "name": "python",
   "nbconvert_exporter": "python",
   "pygments_lexer": "ipython3",
   "version": "3.7.1"
  }
 },
 "nbformat": 4,
 "nbformat_minor": 2
}
