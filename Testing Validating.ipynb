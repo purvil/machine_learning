{
 "cells": [
  {
   "cell_type": "markdown",
   "metadata": {},
   "source": [
    "* Split data in training and testing set. Train model using training set and test using testing set. Error on new testing set is called generalization error. Training error is low but generalization error is high means over fitting.\n",
    "* 80% of data for training, 20% for testing.\n",
    "* To find which of the 2 model is best, train both and find which model generalize testing set better.\n",
    "* To compare different hyperparameter performance use validation set. Train multiple model with different hyperparameter value on training set. Select model and hyperparameter that perform best on validation test, when we are happy with model we run on test set to find generalization error.\n",
    "\n",
    "#### Cross validation\n",
    "* training set splits in complementary subsets, each model trained against different combination of this subsets and validated against remaining part. Once model and hyperparameter is set finally we train it on full training set and generalization error is measured against test set."
   ]
  }
 ],
 "metadata": {
  "kernelspec": {
   "display_name": "Python 3",
   "language": "python",
   "name": "python3"
  },
  "language_info": {
   "codemirror_mode": {
    "name": "ipython",
    "version": 3
   },
   "file_extension": ".py",
   "mimetype": "text/x-python",
   "name": "python",
   "nbconvert_exporter": "python",
   "pygments_lexer": "ipython3",
   "version": "3.7.1"
  }
 },
 "nbformat": 4,
 "nbformat_minor": 2
}
