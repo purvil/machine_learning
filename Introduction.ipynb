{
 "cells": [
  {
   "cell_type": "markdown",
   "metadata": {},
   "source": [
    "* A model is specification of mathematical or probabilistic relationship between different variable."
   ]
  },
  {
   "cell_type": "markdown",
   "metadata": {},
   "source": [
    "### What is Machine Learning(ML)?\n",
    "* Teaching computers to learn to perform task from past experience(data).\n",
    "* A computer program is said to learn from experience E, with respect to some task T and performance measure P. It's performance P for task T, improves with experience E.\n",
    "\n",
    "### Application of ML\n",
    "* email spam filtering\n",
    "* Text and voice recognition\n",
    "* Web search engine (Ranking)\n",
    "* Self-driving cars.\n",
    "* Photo tagging"
   ]
  },
  {
   "cell_type": "markdown",
   "metadata": {},
   "source": [
    "<h1><center>Types of ML</center></h1>\n",
    "\n",
    "## Supervised Learning\n",
    "- Labeled data\n",
    "- Direct feedback\n",
    "- Predict outcome/feature\n",
    "- Learn model from labeled training data that allows to make prediction of future unseen data.\n",
    "![](images/supervised.PNG)\n",
    "\n",
    "### Classification\n",
    "* Discrete label (spam-non spam, benign-malign)\n",
    "* Example:\n",
    "    - Email spam filtering\n",
    "    - Hand writing digit recognition\n",
    "    - Image classification\n",
    "    - Fraud transaction\n",
    "    - Comsumer retention\n",
    "    - Optical character recognition (OCR)\n",
    "    - Cancer diagnosis (malign, balign)\n",
    "    - Autograder (A,B,C,D)\n",
    "    - Predicting customer churn\n",
    "    - Classifying images\n",
    "    - Buy or won't buy\n",
    "    \n",
    "### Regression\n",
    "* Predict continuous value.\n",
    "* We are given a predictor(Explanatory) variables and a continuous response (target/outcome) variable, we try to find relationship between that.\n",
    "* Example\n",
    "    - Predicting SAT score of students (time spent studying, mock exam score)\n",
    "    - Finding price of house given set of features (predictors)\n",
    "    - Population growth prediction\n",
    "    - Estimating life expectancy\n",
    "    - Market forcasting\n",
    "    - Advertising popularity prediction\n",
    "    - Predicting sales\n",
    "    - Predicting number of viewer of the show\n",
    "    - \n",
    "    \n",
    "* We want to minimize the distance (avg squared distance) between sample points and fitted line, and we can use line's intercept and slope to predict future data.\n",
    "\n",
    "### Common Algorithm\n",
    "\n",
    "##### K-nearest neighbors\n",
    "\n",
    "##### Linear Regression\n",
    "\n",
    "##### Logistic Regression\n",
    "* Can be used for classification.\n",
    "* It can output value that corresponds probability of belonging to a given task.\n",
    "\n",
    "##### Support vector machine (SVM)\n",
    "\n",
    "##### Decision tree and random forest\n",
    "\n",
    "##### Neural networks"
   ]
  },
  {
   "cell_type": "markdown",
   "metadata": {},
   "source": [
    "## Unsupervised Learning\n",
    "- No labels\n",
    "- No feedback\n",
    "- Find hidden structure in data\n",
    "\n",
    "### Clustering\n",
    "- We do care about only current data, exploring structure of current data. We dop not need an y prediction of future data.\n",
    "- Organize pile of info into meaningful subgroups (clusters)\n",
    "- Each group share certain degree of similarities.\n",
    "- Example\n",
    "    - Discovering customer group\n",
    "    - Recommender system\n",
    "    - Targetted marketting\n",
    "    - User segmentation\n",
    "    - Topic modeling (Divide article based on topic)\n",
    "![](images/clustring.PNG)\n",
    "\n",
    "### Common clustering algorithm\n",
    "\n",
    "##### K-means\n",
    "\n",
    "##### Hierarchical cluster analysis (HCA)\n",
    "* Subdivide group into smaller groups\n",
    "\n",
    "##### Expectation maximization\n",
    "\n",
    "### Dimensionality reduction\n",
    "* Often data is in high dimension- occupy storage and CPU\n",
    "* We want to compress data to smaller dimensional subspace while retaining most of relevant info.\n",
    "![](images/dimenstionality_reduction.PNG)\n",
    "* Examples\n",
    "    - Meaningful compression\n",
    "    - Structure discovery\n",
    "    - Feature selection\n",
    "    - Big data visualization\n",
    "    \n",
    "### Visualization and dimensionality reduction algorithm\n",
    "\n",
    "##### Principal component analysis (PCA)\n",
    "\n",
    "##### Kernel PCA\n",
    "\n",
    "##### Locally linear embedding (LLE)\n",
    "\n",
    "##### t-distributed stochastic neighbor embedding (t-SNE)\n",
    "\n",
    "### Anomaly detection\n",
    "* Detecting abnormal and unusual case\n",
    "* Detect unusual credit card transaction\n",
    "* Automatically removing outlier from dataset.\n",
    "\n",
    "### Association rule mining\n",
    "* Discover interesting relationship among attributes.\n",
    "### Associated rule learning algorithms\n",
    "\n",
    "##### Apriori\n",
    "##### Eclat"
   ]
  },
  {
   "cell_type": "markdown",
   "metadata": {},
   "source": [
    "## Semisupervised Learning\n",
    "* Partially labeled data.\n",
    "* Algorithms\n",
    "    - Deep belief networks\n",
    "* Transductive Learning\n",
    "    - Some data points have label, but other does not.\n",
    "    - From inherent clusters and labeled data it labels unlabeled data.\n",
    "    ![](images/transductive.PNG)\n",
    "* Active Learning\n",
    "    - Build and train classifier for labeled data, \n",
    "    - If that classifier is confident to predict unlabeled data, it will predict, otherwise go to human supervisor for label.\n",
    "    - Classifier use output of human supervisor to learn.\n",
    "    ![](images/active_learning.PNG)\n",
    "* Self training\n",
    "    - From labeled data we create classifier, then with unlabeled data we make prediction. For confident prediction, we use the data to retrain classifier\n",
    "    ![](images/self_learning.PNG)\n",
    "* Co-training:\n",
    "    - We train 2 classifier 1 and 2, output of unlabeled prediction of 1 will become training data for 2 and opposite."
   ]
  },
  {
   "cell_type": "markdown",
   "metadata": {},
   "source": [
    "## Reinforcement Learning\n",
    "* Agent observe environment, select and perform an action, and get reward in return. It learn itself to get most reward over the time.\n",
    "- Decision process\n",
    "- Reward system\n",
    "- Learn series of action\n",
    "- Improves performance via interaction with environment.\n",
    "- Here the goal is to maximize reward given by reward function\n",
    "- Example\n",
    "    - Chess engine (reward is win or lose.)\n",
    "    - Real time decision\n",
    "    - Game AI\n",
    "    - Skill acquisition\n",
    "    - Learning tasks\n",
    "    - Robot nevigation\n",
    "![](images/reinforcement.PNG)"
   ]
  },
  {
   "cell_type": "markdown",
   "metadata": {},
   "source": [
    "### ML Process\n",
    "![](images/process.PNG)"
   ]
  },
  {
   "cell_type": "markdown",
   "metadata": {},
   "source": [
    "* Selected features should be in same scale. Transform to range [0,1] or a standard normal distribution with mean 0 and unit variance.\n",
    "* Some features which are highly correlated, so redundant at certain degree. Car's mileage is correlated with age.\n",
    "* Randomly divide dataset in training and testing data.\n",
    "* Train different model, compare their performance."
   ]
  },
  {
   "cell_type": "markdown",
   "metadata": {},
   "source": [
    "* **Hyperparameter** are parameters that are not  learned from data but represent the knobs of a model that we can turn to improve performance."
   ]
  },
  {
   "cell_type": "markdown",
   "metadata": {},
   "source": [
    "* Applying ML techniques to dig into large amount of data can help discover patterns that were not immediately apparent. It is called **Data mining**."
   ]
  },
  {
   "cell_type": "markdown",
   "metadata": {},
   "source": [
    "* Sequence mining is predicting next events, click streams"
   ]
  },
  {
   "cell_type": "markdown",
   "metadata": {},
   "source": [
    "#### Supervised vs unsupervised\n",
    "* Labeled vs unlabeled\n",
    "* output is known vs not known\n",
    "* More measures for accuracy vs not enough\n",
    "* Controlled environment vs not controlled"
   ]
  },
  {
   "cell_type": "markdown",
   "metadata": {},
   "source": [
    "----------------"
   ]
  },
  {
   "cell_type": "markdown",
   "metadata": {},
   "source": [
    "### Batch Learning (Offline learning)\n",
    "* Incapable of learning incrementally. Must be trained with all available data.\n",
    "* System is trained and launched in production, after that system will not learn anymore.\n",
    "* Requires great compute power\n",
    "\n",
    "### Online Learning\n",
    "* Train system incrementally by feeding it data instances sequentially.\n",
    "* Learn from new data on the fly\n",
    "* Can work with restricted resources\n",
    "* Useful when data is huge and can not load in memory at same time. We train model with part of data.\n",
    "* If learning rate is high, system will adapt new data fast and forget about old data.\n",
    "* Slow learning rate will less sensitive to new noisy data (unrepresentative data)\n",
    "* We have to monitor performance degradation due to bad data.\n"
   ]
  },
  {
   "cell_type": "markdown",
   "metadata": {},
   "source": [
    "### Instance based Learning\n",
    "* Mark all email spam identical to or similar to known spam emails. \n",
    "* This requires measure of similarity between two emails.\n",
    "* System learns example by heart and generalized to new cases using similarity measure.\n",
    "![](images/instance.PNG)"
   ]
  },
  {
   "cell_type": "markdown",
   "metadata": {},
   "source": [
    "### Model based learning\n",
    "* Create model using example, using model predict outcome."
   ]
  },
  {
   "cell_type": "markdown",
   "metadata": {},
   "source": [
    "### Challenges\n",
    "\n",
    "#### Insufficient quantity of training data\n",
    "\n",
    "#### Non representative training data\n",
    "* Training data has to be representative of new cases we want to generalize to.\n",
    "* If sample is too small there will be a sampling noise, if sample is too large sample can be non representative if the sampling method is flawed. It is called sampling bias.\n",
    "\n",
    "#### Poor Quality Data\n",
    "* Data with errors, outlier and noise\n",
    "* Fix outliers\n",
    "* Fill missing value, ignore that attribute, train one model with missing value feature or one without it.\n",
    "\n",
    "#### Irrelevant feature\n",
    "* Feature selection: Select most useful features.\n",
    "* Feature extraction: Combining existing features to produce more useful one (dimensionality reduction can help)\n",
    "* Create new feature by gathering new data.\n",
    "\n",
    "#### Generalization\n",
    "* Algo's ability to give accurate prediction for new, previously unseen data.\n",
    "\n",
    "#### Overfitting of training data\n",
    "* Model perform well on training data, but do not generalize well. We say model has high variance.\n",
    "* Model learning noise in data\n",
    "* Overfitting happens when model is too complex relative to amount and noisiness of training data\n",
    "    - Simplify model by choosing fewer parameters, use linear than high degree polynomial\n",
    "    - Gather more training data\n",
    "    - Reduce noise in training data (fix data error, remove outliers)\n",
    "    - Introduce penalty for complexity via regualarization\n",
    "    - Choose simple model with fewer parameters.\n",
    "    - Reduce dimensionality of data.\n",
    "* Constraining model to make it simpler and reduce risk of overfitting is called **regularization**. Keep balance between fitting data perfect and keeping model simple enough to generalize well.\n",
    "    - $\\theta_0$ and $\\theta_1$ are  2 parameter in linear model. Which gives 2 degree of freedom to a model. If we force $\\theta_1$ = 0, only 1 degree of freedom. Harder to fit data well. We only can move line up or down. So end up around mean.\n",
    "    - We want to find right balance between fitting the data and keeping model simple enough.\n",
    "    - Regularization can be controlled by hyperparameter.\n",
    "\n",
    "#### Under fitting training data\n",
    "* Model is too simple to lean underlying structure of data.\n",
    "* To overcome,\n",
    "    - Select more powerful model\n",
    "    - Feeding better features to the learning algo\n",
    "    - Reducing contrains on the model(Reduce regularization of hyper parameter)"
   ]
  },
  {
   "cell_type": "markdown",
   "metadata": {},
   "source": [
    "![](images/accuracy_vs_complexity.PNG)"
   ]
  },
  {
   "cell_type": "markdown",
   "metadata": {},
   "source": [
    "* Sequence of data processing is called **data pipeline**"
   ]
  },
  {
   "cell_type": "markdown",
   "metadata": {},
   "source": [
    "### Distance Measure (norms)"
   ]
  },
  {
   "cell_type": "markdown",
   "metadata": {},
   "source": [
    "* Vector norms is total size or length of all vector in vector space or matrix.\n",
    "\n",
    "#### L0 Norm\n",
    "* Total number of non zero elements in a vector.\n",
    "* L0 norm of (0,0) and (0,2) is 1.\n",
    "\n",
    "\n",
    "#### L1 norm\n",
    "* MAE (Mean absolute error)(mean absolute distance) corresponds to l1 norm. Also known as Manhattan norm(Taxicab norm), as it measure distance between 2 points in a city if you can travel along orthogonal city block.\n",
    "* Sum of magnitudes of the vector in a space.\n",
    "* All component of the vector are weighted equally.\n",
    "* For (3,4), L1 norm is |3| + |4| = 7\n",
    "* In image we can see that taxicab travels between Manhattan blocks from (0,0) to (3,4).\n",
    "![](images/l1.jpg)\n",
    "\n",
    "#### L2 norm\n",
    "* Euclidian norm. Shortest distance from 1 point to other.\n",
    "* RMSE(Root mean square error)\n",
    "* L2 norm for (3,4) = $\\sqrt{|3|^2 + |4|^2}$ = 5\n",
    "![](images/l2.jpg)\n",
    "* Each component of vector is squared, so outlier has more weight so it can skew the results.\n",
    "\n",
    "#### Lk norm\n",
    "* Lk norm of (3,4) = $\\sqrt[k]{|3|^k + |4|^k}$\n",
    "\n",
    "#### L$\\infty$ norm\n",
    "* Max absolute value in vector.\n"
   ]
  },
  {
   "cell_type": "markdown",
   "metadata": {},
   "source": [
    "* Higher the norm index more it focus on large value, neglect small values. SO, RMSE is more sensitive to outlier than MAE. When Outlier are exponentially rare (bell shape curve) RMSE performs well."
   ]
  },
  {
   "cell_type": "markdown",
   "metadata": {},
   "source": [
    "### Scikit Learn\n",
    "\n",
    "#### Estimators\n",
    "* Object that can estimate some parameters based on a dataset called estimator. Ex imputer\n",
    "* Estimator is performed by fit() method, takes dataset as parameter. Other parameters are called hyperparameter. Must be set in constructor.\n",
    "\n",
    "#### Transformers.\n",
    "* Transform a dataset. Transformation is relied on learned parameter. `fit_transform()` does work of both `fit()` and `transform()`.\n",
    "\n",
    "#### Predictors\n",
    "* Some estimators are capable of making prediction given dataset Ex. LinearRegression model.\n",
    "* `predict()` takes dataset of new instances and returns dataset of corresponding prediction.\n",
    "* `score()` method that measure the quality of prediction given a test set.\n",
    "\n",
    "#### Inspection\n",
    "* Estimator's hyperparametr are accessible direclty via public instance variables (imputer.strategy) All estimator's learned parameter can be accessed with public instance variable with an underscore(imputer.statistics_)"
   ]
  },
  {
   "cell_type": "markdown",
   "metadata": {},
   "source": [
    "### Generating synthetic dataset"
   ]
  },
  {
   "cell_type": "markdown",
   "metadata": {},
   "source": [
    "#### Simple regression dataset"
   ]
  },
  {
   "cell_type": "code",
   "execution_count": 1,
   "metadata": {},
   "outputs": [],
   "source": [
    "from sklearn.datasets import make_regression"
   ]
  },
  {
   "cell_type": "code",
   "execution_count": 2,
   "metadata": {},
   "outputs": [],
   "source": [
    "X_R1, y_R1 = make_regression(n_samples=100, n_features=1, n_informative=1, bias=150.0, noise=30,random_state=0)"
   ]
  },
  {
   "cell_type": "code",
   "execution_count": 3,
   "metadata": {},
   "outputs": [],
   "source": [
    "import matplotlib.pyplot as plt"
   ]
  },
  {
   "cell_type": "code",
   "execution_count": 4,
   "metadata": {},
   "outputs": [
    {
     "data": {
      "text/plain": [
       "<matplotlib.collections.PathCollection at 0x2b66894be48>"
      ]
     },
     "execution_count": 4,
     "metadata": {},
     "output_type": "execute_result"
    },
    {
     "data": {
      "image/png": "[encoded data removed]",
      "text/plain": [
       "<Figure size 432x288 with 1 Axes>"
      ]
     },
     "metadata": {
      "needs_background": "light"
     },
     "output_type": "display_data"
    }
   ],
   "source": [
    "plt.scatter(X_R1, y_R1, marker='o', s=50)"
   ]
  },
  {
   "cell_type": "markdown",
   "metadata": {},
   "source": [
    "#### Simple 2 feature binary classification dataset"
   ]
  },
  {
   "cell_type": "code",
   "execution_count": 5,
   "metadata": {},
   "outputs": [],
   "source": [
    "from sklearn.datasets import make_classification"
   ]
  },
  {
   "cell_type": "code",
   "execution_count": 6,
   "metadata": {},
   "outputs": [],
   "source": [
    "X_C2, y_C2 = make_classification(n_samples=100, n_features=2, n_redundant=0, n_informative=2, n_clusters_per_class=1,\n",
    "                                 flip_y=0.1, class_sep=0.5, random_state=0)"
   ]
  },
  {
   "cell_type": "code",
   "execution_count": 11,
   "metadata": {},
   "outputs": [
    {
     "data": {
      "text/plain": [
       "<matplotlib.collections.PathCollection at 0x2b66869b4e0>"
      ]
     },
     "execution_count": 11,
     "metadata": {},
     "output_type": "execute_result"
    },
    {
     "data": {
      "image/png": "[encoded data removed]",
      "text/plain": [
       "<Figure size 432x288 with 1 Axes>"
      ]
     },
     "metadata": {
      "needs_background": "light"
     },
     "output_type": "display_data"
    }
   ],
   "source": [
    "plt.scatter(X_C2[:, 0], X_C2[:, 1], c=y_C2, marker= 'o', s=50)"
   ]
  },
  {
   "cell_type": "code",
   "execution_count": 12,
   "metadata": {},
   "outputs": [],
   "source": [
    "from sklearn.datasets import make_blobs"
   ]
  },
  {
   "cell_type": "code",
   "execution_count": 14,
   "metadata": {},
   "outputs": [],
   "source": [
    "X_D2, y_D2 = make_blobs(n_samples=100, n_features=2, centers=8, cluster_std=1.3, random_state=4)"
   ]
  },
  {
   "cell_type": "markdown",
   "metadata": {},
   "source": [
    "![](images/stats_vs_ML.PNG)"
   ]
  },
  {
   "cell_type": "markdown",
   "metadata": {},
   "source": [
    "### No free lunch theorem\n",
    "* All classifiers have the same error rate when averaged over all possible data generating distributions.\n",
    "* NO single ML classification algo can be universally better than any other one on all domains.\n",
    "* Always look for ML algo that perform best on certain classes of domains."
   ]
  },
  {
   "cell_type": "markdown",
   "metadata": {},
   "source": [
    "### Application"
   ]
  },
  {
   "cell_type": "markdown",
   "metadata": {},
   "source": [
    "#### Health Care\n",
    "* Predict when medical refrigerator will go bad.\n",
    "* Predict hospital re-admission for chronically ill patient\n",
    "* Reduce 1 year mortality\n",
    "    - Predict likelyhood of death within 1 year of discharge\n",
    "* Predict propensity to pay\n",
    "* Predict no show\n",
    "\n",
    "#### Internet service providers\n",
    "* Customer churn prediction\n",
    "* Identify most profitable customer in terms of total value and estimated life time value\n",
    "* Identify the responsiveness of the customers to promotional offerings\n",
    "* Traffic analysis, dealing with security attacks\n",
    "* Customer log mining for marketing, advertising, personalization, content prefetching\n",
    "* Network failure prediction\n",
    "* Network expansion decision making\n",
    "* Building user profiles\n",
    "\n",
    "#### People analytics\n",
    "* Recommending trainings for employees\n",
    "* Automatically identifying projects on within company, who is working on what project\n",
    "* Organizing and structuring conversations between employees and managers.\n",
    "* Analyzing job description quality\n",
    "* Matching jobs with candidates\n",
    "* Extracting structured profile from resumes\n",
    "* Automatically assigning SCRUM work items from meeting minute emails.\n",
    "\n",
    "#### Supply Chain management\n",
    "* Forecasting demand\n",
    "    - Forecast demand for future, Forecast declined and end of line product and growth of new product\n",
    "* Supply forecasting\n",
    "    - Based on supplier commitment and lead time supply forecast\n",
    "* Text analytics\n",
    "* Price planning: Increase or decrease price based on demand trends\n",
    "* Inventory planning\n",
    "* Drop shipment business: Recommend products that are in excess and automatically reduce price to clear inventory.\n",
    "* Stock Analytics\n",
    "* Exception analytics: \n",
    "* Component level analytics\n",
    "* Warehouse management : What to store where\n",
    "* Logistics and transportation\n",
    "* Supplier relationship management "
   ]
  },
  {
   "cell_type": "markdown",
   "metadata": {},
   "source": [
    "### Types of Data sets\n",
    "* Records:\n",
    "    - Relational records\n",
    "    - Data matrix, e.g. numerical matrix, crosstabs\n",
    "    - Document data: text documents, term-frequency vector\n",
    "    - Transaction data.\n",
    "* Graph and network\n",
    "    - www\n",
    "    - Social or information networks\n",
    "    - Molecular structures\n",
    "* Ordered\n",
    "    - Video data : sequence of images\n",
    "    - Temporal data: time-series\n",
    "    - Sequential data : transaction sequence\n",
    "    - Genetic sequence data (positional sequence)\n",
    "* Spatial, image and multimedia\n",
    "    - Spatial data: maps\n",
    "    - Image data\n",
    "    - Video data"
   ]
  },
  {
   "cell_type": "markdown",
   "metadata": {},
   "source": [
    "* Dimensionality:\n",
    "    - How many features are there\n",
    "* Sparsity:\n",
    "    - Only presenece counts, In matrix lots of values are 0s. Such matrix is sparse. \n",
    "* Resolution\n",
    "    - Avg temperature per day vs avg temperature every hr.\n",
    "    - Data for individual customer vs group of customers\n",
    "    - Higher the resolution is better."
   ]
  },
  {
   "cell_type": "markdown",
   "metadata": {},
   "source": [
    "### We estimate f for prediction and inference\n",
    "\n",
    "#### Prediction\n",
    "* We are given a features X and we have to predict Y. $\\hat{Y} = \\hat{f}(X)$\n",
    "* $\\hat{f}$ is estimate of f and $\\hat{Y}$ is prediction for Y.\n",
    "* Accuracy of $\\hat{Y}$ to predict Y depends on reducible and irreducible error. $\\hat{f}$ is not best estimate for f, inaccuracy is called reducible error means it can be reduced by using appropriate statistical learning technique. Y is also function of $\\epsilon$ which by definition can not be predicted using X. $\\epsilon$ contains unmeasured variables that is useful to predict Y. Also contains unmeasured variation.\n",
    "![](images/prediction.PNG)"
   ]
  },
  {
   "cell_type": "markdown",
   "metadata": {},
   "source": [
    "* Example:\n",
    "    - Identify individual who will response positively with mailing promotions. Do not want to understand relationship with predictor and response, instead wants accurate model which can predict the response using predictors. This is modeling for prediction.\n",
    "    \n",
    "#### Inference\n",
    "* How Y changes as X gets changed.\n",
    "* Which predictor are associated with response?\n",
    "* What is the relationship between response and each predictor?\n",
    "* Does relationship can be summarized as linear or it is more complicated?\n",
    "* Example:\n",
    "    - Which media promotion contribute to sale?\n",
    "    - Which media generate biggest boost in the sale?\n",
    "    - How much increase in sales is associates with a given increase in TV ads.\n",
    "    - What effect will changing the price of product will happen on sale? \n",
    "* Using linear model is highly interpretable so we can understand inference easily but lower accuracy."
   ]
  },
  {
   "cell_type": "markdown",
   "metadata": {},
   "source": [
    "### Parametric Methods\n",
    "* Reduces problem of estimating f down to estimating a set of parameters.\n",
    "* We simplify estimating f with estimating set of parameters like $\\beta_0$, $\\beta_1$, $\\beta_2$, $\\beta_n$.\n",
    "1. Make assumption about functional form or shape of f. Ex. Linear. After we choose f is linear, instead of estimating entirely p-dimensional function, we cab estimate p+1 coefficients $\\beta_0$, $\\beta_1$, $\\beta_2$, $\\beta_n$.\n",
    "2. After model is selected fit and train the model. Estimate parameters $\\beta_0$, $\\beta_1$, $\\beta_2$, $\\beta_n$.\n",
    "* Sometime selected model for f does not match true unknown form of f. Sow we choose flexible model that can fit many different possible functional form for f. But it requires estimating greater number of parameters. It can lead to overfitting. It follows errors, noise too closely.\n",
    "\n",
    "### Non-parametric Methods\n",
    "* Do not make explicit assumption about form of f. It seek estimate of f that gets as close to the data points without being too rough or wiggly. Without assumption of shape of f as in parametric model we can fit wide range of different shapes of f.\n",
    "* It does not reduce the problem of estimating f to a small number of parameters, a very large number of observations is required in order to accurate estimate of f.\n",
    "* Here we have to choose level of smoothness.\n",
    "* Thin-plate spline to estimate f."
   ]
  },
  {
   "cell_type": "markdown",
   "metadata": {},
   "source": [
    "### Prediction accuracy vs model interpretability\n",
    "\n",
    "* LR is inflexible approach, because it can only generate linear functions like line, plane.\n",
    "![](images/accuracy_interpretability.PNG)"
   ]
  },
  {
   "cell_type": "markdown",
   "metadata": {},
   "source": [
    "* Methods like thin splines can generate much wider shape to estimate f. They are more flexible. When we are interested in inference more restrictive models are hight interpretable.\n",
    "* Lasso is more interpretable than LR, but less flexible as it sets number of coefficient to 0. At the end response variable related to a small subset of the predictors (with non 0 coefficient estimates)"
   ]
  },
  {
   "cell_type": "markdown",
   "metadata": {},
   "source": [
    "### Test error rate in classification\n",
    "$$Ave(I(y_0 != \\hat{y_0}))$$"
   ]
  },
  {
   "cell_type": "markdown",
   "metadata": {},
   "source": [
    "* To minimize it we assign eacg observation to the most likely class, given its predictor values. We should simply assign a test observation with predictor vector x_0 to the class j for which $P(Y = j | X - x_0)$ is largest. It is called Bayes classifier. On decision boundary probability is exactly 50%."
   ]
  },
  {
   "cell_type": "markdown",
   "metadata": {},
   "source": [
    "* Bayes error rate $1 - E(max_j P(Y = j | X))$. E avg. probability over all possible values of X. It is analogous to the irreducible error."
   ]
  },
  {
   "cell_type": "markdown",
   "metadata": {},
   "source": [
    "### Synergy effect / Interaction effect\n",
    "* Spending 50k on television and 50k on radio advertising results more in sales than allocating 100K to wither television or radio individually. In marketing it is called synergy effect. In statistics it is called interaction effect."
   ]
  },
  {
   "cell_type": "code",
   "execution_count": null,
   "metadata": {},
   "outputs": [],
   "source": []
  }
 ],
 "metadata": {
  "kernelspec": {
   "display_name": "Python 3",
   "language": "python",
   "name": "python3"
  },
  "language_info": {
   "codemirror_mode": {
    "name": "ipython",
    "version": 3
   },
   "file_extension": ".py",
   "mimetype": "text/x-python",
   "name": "python",
   "nbconvert_exporter": "python",
   "pygments_lexer": "ipython3",
   "version": "3.7.1"
  },
  "toc": {
   "base_numbering": 1,
   "nav_menu": {},
   "number_sections": true,
   "sideBar": true,
   "skip_h1_title": false,
   "title_cell": "Table of Contents",
   "title_sidebar": "Contents",
   "toc_cell": false,
   "toc_position": {},
   "toc_section_display": true,
   "toc_window_display": false
  },
  "varInspector": {
   "cols": {
    "lenName": 16,
    "lenType": 16,
    "lenVar": 40
   },
   "kernels_config": {
    "python": {
     "delete_cmd_postfix": "",
     "delete_cmd_prefix": "del ",
     "library": "var_list.py",
     "varRefreshCmd": "print(var_dic_list())"
    },
    "r": {
     "delete_cmd_postfix": ") ",
     "delete_cmd_prefix": "rm(",
     "library": "var_list.r",
     "varRefreshCmd": "cat(var_dic_list()) "
    }
   },
   "types_to_exclude": [
    "module",
    "function",
    "builtin_function_or_method",
    "instance",
    "_Feature"
   ],
   "window_display": false
  }
 },
 "nbformat": 4,
 "nbformat_minor": 2
}
